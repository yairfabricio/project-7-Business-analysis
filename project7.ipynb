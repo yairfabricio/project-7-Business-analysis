{
 "cells": [
  {
   "cell_type": "markdown",
   "metadata": {},
   "source": [
    "¡Hola!\n",
    "\n",
    "Me llamo Santiago y para mí es un gusto revisar tu proyecto el dia de hoy. Soy el reviewer que te estará acompañando y asesorando en el proceso de revisión el día de hoy.\n",
    "\n",
    "Cuando vea un error iré realizando un proceso gradual de darte información, de solo informarte la primera vez a darte más datos acerca del mismo en las siguientes iteraciones que te puedan ayudar a tener una visión más amplia de la situación. Haré comentarios, desde observaciones hasta sugerencias prácticas que involucran temas generales y buenas prácticas en el área si así lo deseas. También puedes comentarme preguntas o discusiones que puedas tener con plena tranquilidad.\n",
    "\n",
    "Respecto a los comentarios que yo realize: **No los elimines, muevas o modifiques por favor**.\n",
    "\n",
    "Encontrarás mis comentarios con los colores verde, amarillo y rojo, así:\n",
    "\n",
    "<div class=\"alert alert-block alert-success\">\n",
    "<b>Comentario del revisor</b> <a class=\"tocSkip\"></a>\n",
    "\n",
    "Muy bien. Todo se realizó correctamente.\n",
    "</div>\n",
    "\n",
    "<div class=\"alert alert-block alert-warning\">\n",
    "<b>Comentario del revisor</b> <a class=\"tocSkip\"></a>\n",
    "\n",
    "Bien hecho aunque hay algunas sugerencias que te pueden ser útiles\n",
    "</div>\n",
    "\n",
    "<div class=\"alert alert-block alert-danger\">\n",
    "\n",
    "<b>Comentario del revisor</b> <a class=\"tocSkip\"></a>\n",
    "\n",
    "Requiere acciones o correciones, esta parte requiere tomar correciones debido a que hay algo que puede no funcionar como lo esperamos.\n",
    "</div>\n",
    "\n",
    "Si deseas comentarme algo, puedes hacerlo sin problema usando el siguiente formato:\n",
    "\n",
    "<div class=\"alert alert-block alert-info\">\n",
    "<b>Respuesta del estudiante.</b> <a class=\"tocSkip\"></a>\n",
    "    \n",
    "Preguntas, discusiones o solo comentarios.\n",
    "</div>"
   ]
  },
  {
   "cell_type": "markdown",
   "metadata": {},
   "source": [
    "# Descarga los datos y prepáralos para el análisis"
   ]
  },
  {
   "cell_type": "code",
   "execution_count": 1,
   "metadata": {},
   "outputs": [],
   "source": [
    "#importar librerias\n",
    "import pandas as pd\n",
    "import matplotlib.pyplot as plt\n",
    "from scipy import stats as st\n",
    "import numpy as np\n",
    "import seaborn as sns\n"
   ]
  },
  {
   "cell_type": "code",
   "execution_count": 2,
   "metadata": {},
   "outputs": [],
   "source": [
    "#leer los csv \n",
    "visits=pd.read_csv('/datasets/visits_log_us.csv')\n",
    "orders=pd.read_csv('/datasets/orders_log_us.csv')\n",
    "costs=pd.read_csv('/datasets/costs_us.csv')\n"
   ]
  },
  {
   "cell_type": "code",
   "execution_count": 3,
   "metadata": {},
   "outputs": [],
   "source": [
    "#preparacion de datos del dataframe visits\n",
    "\n",
    "#preparar los datos de cada columna\n",
    "visits = pd.read_csv(\n",
    "    '/datasets/visits_log_us.csv',\n",
    "    dtype={'dvice': 'category'},\n",
    "    parse_dates=['Start Ts', 'End Ts']\n",
    ") \n",
    "#ponerle formato a las columnas\n",
    "visits.columns = visits.columns.str.replace(' ', '_').str.lower()\n"
   ]
  },
  {
   "cell_type": "code",
   "execution_count": 4,
   "metadata": {},
   "outputs": [
    {
     "name": "stdout",
     "output_type": "stream",
     "text": [
      "<class 'pandas.core.frame.DataFrame'>\n",
      "RangeIndex: 359400 entries, 0 to 359399\n",
      "Data columns (total 5 columns):\n",
      " #   Column     Non-Null Count   Dtype         \n",
      "---  ------     --------------   -----         \n",
      " 0   device     359400 non-null  object        \n",
      " 1   end_ts     359400 non-null  datetime64[ns]\n",
      " 2   source_id  359400 non-null  int64         \n",
      " 3   start_ts   359400 non-null  datetime64[ns]\n",
      " 4   uid        359400 non-null  uint64        \n",
      "dtypes: datetime64[ns](2), int64(1), object(1), uint64(1)\n",
      "memory usage: 13.7+ MB\n",
      "None\n"
     ]
    }
   ],
   "source": [
    "#muestra de los dtype correctos\n",
    "print(visits.info())"
   ]
  },
  {
   "cell_type": "code",
   "execution_count": 5,
   "metadata": {},
   "outputs": [
    {
     "name": "stdout",
     "output_type": "stream",
     "text": [
      "<class 'pandas.core.frame.DataFrame'>\n",
      "RangeIndex: 50415 entries, 0 to 50414\n",
      "Data columns (total 3 columns):\n",
      " #   Column   Non-Null Count  Dtype  \n",
      "---  ------   --------------  -----  \n",
      " 0   Buy Ts   50415 non-null  object \n",
      " 1   Revenue  50415 non-null  float64\n",
      " 2   Uid      50415 non-null  uint64 \n",
      "dtypes: float64(1), object(1), uint64(1)\n",
      "memory usage: 1.2+ MB\n",
      "None\n"
     ]
    }
   ],
   "source": [
    "#preparacion de datos del dataframe orders\n",
    "#ver informacion del df\n",
    "print(orders.info())\n",
    "#preparar los datos de cada columna\n",
    "orders = pd.read_csv(\n",
    "    '/datasets/orders_log_us.csv',\n",
    "    parse_dates=['Buy Ts'],\n",
    ") \n",
    "#ponerle formato a las columnas\n",
    "orders.columns = orders.columns.str.replace(' ', '_').str.lower()"
   ]
  },
  {
   "cell_type": "code",
   "execution_count": 6,
   "metadata": {},
   "outputs": [
    {
     "name": "stdout",
     "output_type": "stream",
     "text": [
      "<class 'pandas.core.frame.DataFrame'>\n",
      "RangeIndex: 50415 entries, 0 to 50414\n",
      "Data columns (total 3 columns):\n",
      " #   Column   Non-Null Count  Dtype         \n",
      "---  ------   --------------  -----         \n",
      " 0   buy_ts   50415 non-null  datetime64[ns]\n",
      " 1   revenue  50415 non-null  float64       \n",
      " 2   uid      50415 non-null  uint64        \n",
      "dtypes: datetime64[ns](1), float64(1), uint64(1)\n",
      "memory usage: 1.2 MB\n",
      "None\n"
     ]
    }
   ],
   "source": [
    "#muestra de los dtype correctos\n",
    "print(orders.info())"
   ]
  },
  {
   "cell_type": "code",
   "execution_count": 7,
   "metadata": {},
   "outputs": [
    {
     "name": "stdout",
     "output_type": "stream",
     "text": [
      "<class 'pandas.core.frame.DataFrame'>\n",
      "RangeIndex: 2542 entries, 0 to 2541\n",
      "Data columns (total 3 columns):\n",
      " #   Column     Non-Null Count  Dtype  \n",
      "---  ------     --------------  -----  \n",
      " 0   source_id  2542 non-null   int64  \n",
      " 1   dt         2542 non-null   object \n",
      " 2   costs      2542 non-null   float64\n",
      "dtypes: float64(1), int64(1), object(1)\n",
      "memory usage: 59.7+ KB\n",
      "None\n"
     ]
    }
   ],
   "source": [
    "#preparacion de datos del dataframe visits\n",
    "#ver informacion del df\n",
    "print(costs.info())\n",
    "#preparar los datos de cada columna\n",
    "costs = pd.read_csv(\n",
    "    '/datasets/costs_us.csv',\n",
    "    parse_dates=['dt'],\n",
    ") \n",
    "#ponerle formato a las columnas\n",
    "costs.columns = costs.columns.str.replace(' ', '_').str.lower()"
   ]
  },
  {
   "cell_type": "code",
   "execution_count": 8,
   "metadata": {},
   "outputs": [
    {
     "name": "stdout",
     "output_type": "stream",
     "text": [
      "<class 'pandas.core.frame.DataFrame'>\n",
      "RangeIndex: 2542 entries, 0 to 2541\n",
      "Data columns (total 3 columns):\n",
      " #   Column     Non-Null Count  Dtype         \n",
      "---  ------     --------------  -----         \n",
      " 0   source_id  2542 non-null   int64         \n",
      " 1   dt         2542 non-null   datetime64[ns]\n",
      " 2   costs      2542 non-null   float64       \n",
      "dtypes: datetime64[ns](1), float64(1), int64(1)\n",
      "memory usage: 59.7 KB\n",
      "None\n"
     ]
    }
   ],
   "source": [
    "#muestra de los dtype correctos\n",
    "print(costs.info())"
   ]
  },
  {
   "cell_type": "markdown",
   "metadata": {},
   "source": [
    "<div class=\"alert alert-block alert-success\">\n",
    "<b>Comentario del revisor</b> <a class=\"tocSkip\"></a>\n",
    "\n",
    "Muy bien, todo el proceso de carga de datos se hizo de una manera bastante acertada, pues no solo se hicieron las transformaciones de datos pertinentes sino que se realizaron todas desde la misma carga, que no solo es permitido sino eficiente y práctico además de entender muy bien las funciones de carga del dataframe. Como sugerencia diría que a un nivel más avanzado de análisis, pues el que hiciste está muy bien, está revisar los valores permitidos para los distintos datos, como observar si los valores de fechas son pertinentes, esto ayuda a tener una idea de datos atípicos de antemano, aunque no es una obligación realizarlo y solo otorga más información a la hora de realizar análisis posteriores.\n",
    "</div>"
   ]
  },
  {
   "cell_type": "markdown",
   "metadata": {},
   "source": [
    "# Haz informes y calcula métricas "
   ]
  },
  {
   "cell_type": "markdown",
   "metadata": {},
   "source": [
    "## Producto:"
   ]
  },
  {
   "cell_type": "markdown",
   "metadata": {},
   "source": [
    "### ¿Cuántas personas lo usan cada día, semana y mes?"
   ]
  },
  {
   "cell_type": "code",
   "execution_count": 9,
   "metadata": {},
   "outputs": [
    {
     "name": "stderr",
     "output_type": "stream",
     "text": [
      "/tmp/ipykernel_44/3635215996.py:3: FutureWarning: Series.dt.weekofyear and Series.dt.week have been deprecated.  Please use Series.dt.isocalendar().week instead.\n",
      "  visits['session_week']  = visits['start_ts'].dt.week\n"
     ]
    },
    {
     "name": "stdout",
     "output_type": "stream",
     "text": [
      "907.9917582417582\n",
      "session_week      26.415094\n",
      "session_year    2017.415094\n",
      "uid             5716.245283\n",
      "dtype: float64\n",
      "session_month        6.500000\n",
      "session_year      2017.416667\n",
      "uid              23228.416667\n",
      "dtype: float64\n"
     ]
    }
   ],
   "source": [
    "visits['session_year']  = visits['start_ts'].dt.year\n",
    "visits['session_month'] = visits['start_ts'].dt.month\n",
    "visits['session_week']  = visits['start_ts'].dt.week\n",
    "visits['session_date'] = visits['start_ts'].dt.date\n",
    "#agrupar visitas por dia \n",
    "\n",
    "view_day= visits.groupby('session_date')['uid'].nunique()\n",
    "\n",
    "#agrupar visitas por semana \n",
    "\n",
    "view_week= visits.groupby(['session_week','session_year'])['uid'].nunique().reset_index()\n",
    "\n",
    "#agrupar visitas por mes\n",
    "\n",
    "view_month= visits.groupby(['session_month','session_year'])['uid'].nunique().reset_index()\n",
    "print(view_day.mean())\n",
    "print(view_week.mean())\n",
    "print(view_month.mean())"
   ]
  },
  {
   "cell_type": "code",
   "execution_count": 10,
   "metadata": {},
   "outputs": [
    {
     "data": {
      "image/png": "[encoded data removed]",
      "text/plain": [
       "<Figure size 432x288 with 1 Axes>"
      ]
     },
     "metadata": {
      "needs_background": "light"
     },
     "output_type": "display_data"
    }
   ],
   "source": [
    "# gráfico de visitas por día\n",
    "\n",
    "plt.plot(view_day.index, view_day.values, marker='o', linestyle='-', color='b')\n",
    "plt.title('Visitas por Día')\n",
    "plt.xlabel('Fecha')\n",
    "plt.ylabel('Número de Visitantes Únicos')\n",
    "plt.grid(True)\n",
    "plt.show()"
   ]
  },
  {
   "cell_type": "code",
   "execution_count": 11,
   "metadata": {},
   "outputs": [
    {
     "data": {
      "image/png": "[encoded data removed]",
      "text/plain": [
       "<Figure size 864x432 with 1 Axes>"
      ]
     },
     "metadata": {
      "needs_background": "light"
     },
     "output_type": "display_data"
    }
   ],
   "source": [
    "#gráfico de visitas por semana\n",
    "\n",
    "plt.figure(figsize=(12, 6))\n",
    "plt.bar(view_week['session_week'].index, view_week['uid'].values, color='green')\n",
    "plt.title('Visitas por Semana')\n",
    "plt.xlabel('Semana del Año')\n",
    "plt.ylabel('Número de Visitantes Únicos')\n",
    "plt.grid(axis='y')\n",
    "plt.show()\n"
   ]
  },
  {
   "cell_type": "code",
   "execution_count": 12,
   "metadata": {},
   "outputs": [
    {
     "data": {
      "image/png": "[encoded data removed]",
      "text/plain": [
       "<Figure size 864x432 with 1 Axes>"
      ]
     },
     "metadata": {
      "needs_background": "light"
     },
     "output_type": "display_data"
    }
   ],
   "source": [
    "# Crear gráfico de visitas por mes\n",
    "plt.figure(figsize=(12, 6))\n",
    "plt.plot(view_month['session_month'].index, view_month['uid'].values, marker='o', linestyle='-', color='r')\n",
    "plt.title('Visitas por Mes')\n",
    "plt.xlabel('Mes del Año')\n",
    "plt.ylabel('Número de Visitantes Únicos')\n",
    "plt.grid(True)\n",
    "plt.show()"
   ]
  },
  {
   "cell_type": "markdown",
   "metadata": {},
   "source": [
    "en promedio por dia hay 907 usuarios , 5825 a la semana y 23228 al mes en la plataforma"
   ]
  },
  {
   "cell_type": "markdown",
   "metadata": {},
   "source": [
    "segun los graficos el sitio experimenta caida de sesiones en el mes 4 hasta elmes 8 de todo el dataframe, se ve la ciada en el grafico mensual y semanal"
   ]
  },
  {
   "cell_type": "markdown",
   "metadata": {},
   "source": [
    "<div class=\"alert alert-block alert-warning\">\n",
    "<b>Comentario del revisor</b> <a class=\"tocSkip\"></a>\n",
    "\n",
    "Buen cálculo para cada uno de los datos, aunque hay un detalle que apreciar: Cuando usas los atributos .week o .month estás tomando el número de semana/mes independiente del año, esto llevará a problemas pues se están agrupando semanas y meses de años distintos y no se hace la progresión adecuada, usar astype('datetime64[M]') / astype('datetime64[W]') te dará el resultado sin necesidad de mezclar los años, a pesar de esto la agrupación y la lógica está bien implementada, es solo un detalle difícil de captar pero que te será muy útil.\n",
    "</div>"
   ]
  },
  {
   "cell_type": "markdown",
   "metadata": {},
   "source": [
    "<div class=\"alert alert-block alert-danger\">\n",
    "<b>Comentario del revisor</b> <a class=\"tocSkip\"></a>\n",
    "\n",
    "No hay análisis gráfico, es necesario incluirlo sobre la progresión, con este sería posible ver la anomalía en un punto debido al usar .week o .month en lugar del astype que incluye los datos con el año.\n",
    "</div>"
   ]
  },
  {
   "cell_type": "markdown",
   "metadata": {},
   "source": [
    "<div class=\"alert alert-block alert-warning\">\n",
    "<b>Comentario del revisor</b> <a class=\"tocSkip\"></a>\n",
    "\n",
    "Bien el análisis gráfico, se ven muy bien las gráficas, aunque persiste el usar .week y .month en lugar del astype, lo cual crea un análisis que puede presentar algunas situaciones extrañas como unir semanas y meses de años distintos. Esto se puede hacer cuandoa aseguramos que existe una sesionalidad más fuerte que la tendencia, esto último es un tema mucho más profundo y avanzado de series de tiempo que no se espera desarrollar, así que la recomendación se mantiene en usar astype en lugar de .week y .month.\n",
    "</div>"
   ]
  },
  {
   "cell_type": "markdown",
   "metadata": {},
   "source": [
    "### ¿Cuántas sesiones hay por día? (Un/a usuario/a puede tener más de una sesión)."
   ]
  },
  {
   "cell_type": "code",
   "execution_count": 13,
   "metadata": {},
   "outputs": [
    {
     "name": "stdout",
     "output_type": "stream",
     "text": [
      "1.082169644003972\n"
     ]
    }
   ],
   "source": [
    "daily_stats = visits.groupby('session_date').agg({'uid': ['count', 'nunique']})\n",
    "\n",
    "\n",
    "mean_view_day = daily_stats['uid']['count'] / daily_stats['uid']['nunique']\n",
    "print(mean_view_day.mean())"
   ]
  },
  {
   "cell_type": "code",
   "execution_count": 14,
   "metadata": {},
   "outputs": [
    {
     "data": {
      "image/png": "[encoded data removed]",
      "text/plain": [
       "<Figure size 864x432 with 1 Axes>"
      ]
     },
     "metadata": {
      "needs_background": "light"
     },
     "output_type": "display_data"
    }
   ],
   "source": [
    "plt.figure(figsize=(12, 6))\n",
    "\n",
    "plt.plot(mean_view_day.index, mean_view_day.values, marker='o', linestyle='-',)\n",
    "plt.title('Cantidad Promedio de Visitas por Usuario por Día')\n",
    "plt.xlabel('Fecha')\n",
    "plt.ylabel('Cantidad Promedio de Visitas por Usuario')\n",
    "plt.grid(True)\n",
    "plt.show()"
   ]
  },
  {
   "cell_type": "markdown",
   "metadata": {},
   "source": [
    "hay 1 sesion en promedio por dia por usuario"
   ]
  },
  {
   "cell_type": "markdown",
   "metadata": {},
   "source": [
    "<div class=\"alert alert-block alert-danger\">\n",
    "<b>Comentario del revisor</b> <a class=\"tocSkip\"></a>\n",
    "\n",
    "Hay un pequeño error en el cálculo, la cantidad de visitas por día debe ser count pues un usuario puede tener más de una visita por día y los usuarios deben ser nunique pues no es relevante que existan usuarios repetidos, es decir está invertido los métodos. Además es necesario el análisis gráfico a lo largo del tiempo, no solamente la media, un line plot normal serviría.\n",
    "</div>"
   ]
  },
  {
   "cell_type": "markdown",
   "metadata": {},
   "source": [
    "<div class=\"alert alert-block alert-danger\">\n",
    "<b>Comentario del revisor</b> <a class=\"tocSkip\"></a>\n",
    "\n",
    "Estás casí allí pero hay un error, un error que es posible analizar desde la gráfica, lo cuál es una de las tareas más habituales de los analistas y científicos de datos. En este caso es muy raro que siempre el resultado sea 1, esto se debe a que el view_day que usaste para el punto anterior (que está bien pues te interesaban usuarios no únicos) no es el mismo de aquí, las vistas totales se deben tomar contando usuarios repetidos, es decir, count para el numerador (falta) y nunique para el denominador (tal como lo tienes).\n",
    "</div>"
   ]
  },
  {
   "cell_type": "markdown",
   "metadata": {},
   "source": [
    "<div class=\"alert alert-block alert-success\">\n",
    "<b>Comentario del revisor</b> <a class=\"tocSkip\"></a>\n",
    "\n",
    "Muy bien, haz aplicado las correciones pertienentes!.\n",
    "</div>"
   ]
  },
  {
   "cell_type": "markdown",
   "metadata": {},
   "source": [
    "### ¿Cuál es la duración de cada sesión?"
   ]
  },
  {
   "cell_type": "code",
   "execution_count": 15,
   "metadata": {},
   "outputs": [
    {
     "name": "stderr",
     "output_type": "stream",
     "text": [
      "No handles with labels found to put in legend.\n"
     ]
    },
    {
     "data": {
      "image/png": "[encoded data removed]",
      "text/plain": [
       "<Figure size 720x432 with 1 Axes>"
      ]
     },
     "metadata": {
      "needs_background": "light"
     },
     "output_type": "display_data"
    }
   ],
   "source": [
    "visits['duration'] = (visits['end_ts'] - visits['start_ts']).dt.seconds\n",
    "\n",
    "\n",
    "plt.figure(figsize=(10, 6))\n",
    "plt.hist(visits['duration'], bins=300, color='blue', edgecolor='black', alpha=0.7)\n",
    "\n",
    "\n",
    "plt.title('Distribución de la Duración de Sesiones')\n",
    "plt.xlabel('Duración (segundos)')\n",
    "plt.ylabel('Frecuencia')\n",
    "plt.legend()\n",
    "\n",
    "plt.show()"
   ]
  },
  {
   "cell_type": "markdown",
   "metadata": {},
   "source": [
    "en promedio la duracion por sesion es 10 minutos con 43 segundos"
   ]
  },
  {
   "cell_type": "markdown",
   "metadata": {},
   "source": [
    "<div class=\"alert alert-block alert-danger\">\n",
    "<b>Comentario del revisor</b> <a class=\"tocSkip\"></a>\n",
    "\n",
    "No hay análisis gráfico, es importante elegir el gráfico más pertinente para esta pregunta. Adicionalmente decir 00:10:43 horas es algo confuso pues hace pensar que la duración de una sesión son 10 horas en promedio lo cuál además de ser raro no es lo que quiere decir el formato, si no 10 minutos con 43 segundos, puedes expresarlo así o usar una medida absoluta como segundos o minutos (usando .dt.seconds por ejemplo). Adicionalmente se aprecia una estadística más descriptiva como decir la media, la mediana, la moda y desviación estandar pues esta distribución, cuando elijas la gráfica pertinente no puede ser descrita tan solo con la media.\n",
    "</div>"
   ]
  },
  {
   "cell_type": "markdown",
   "metadata": {},
   "source": [
    "<div class=\"alert alert-block alert-warning\">\n",
    "<b>Comentario del revisor</b> <a class=\"tocSkip\"></a>\n",
    "\n",
    "Muy bien, ahora todo es más claro y hay un análisis gráfico, aunque te sugiero aumentar la cantidad de bins a por lo menos 300 o más debido a que existe un espacio temporal muy amplio, o acortar el espacio temporar a visualizar, igualmente te sugiero añadir la mediana y la moda.\n",
    "</div>"
   ]
  },
  {
   "cell_type": "markdown",
   "metadata": {},
   "source": [
    "### ¿Con qué frecuencia los usuarios y las usuarias regresan?"
   ]
  },
  {
   "cell_type": "code",
   "execution_count": 16,
   "metadata": {},
   "outputs": [
    {
     "name": "stdout",
     "output_type": "stream",
     "text": [
      "<class 'pandas.core.frame.DataFrame'>\n",
      "Int64Index: 359400 entries, 0 to 359399\n",
      "Data columns (total 12 columns):\n",
      " #   Column                Non-Null Count   Dtype         \n",
      "---  ------                --------------   -----         \n",
      " 0   device                359400 non-null  object        \n",
      " 1   end_ts                359400 non-null  datetime64[ns]\n",
      " 2   source_id             359400 non-null  int64         \n",
      " 3   start_ts              359400 non-null  datetime64[ns]\n",
      " 4   uid                   359400 non-null  uint64        \n",
      " 5   session_year          359400 non-null  int64         \n",
      " 6   session_month         359400 non-null  int64         \n",
      " 7   session_week          359400 non-null  int64         \n",
      " 8   session_date          359400 non-null  object        \n",
      " 9   duration              359400 non-null  int64         \n",
      " 10  first_session_date    359400 non-null  datetime64[ns]\n",
      " 11  first_activity_month  359400 non-null  datetime64[ns]\n",
      "dtypes: datetime64[ns](4), int64(5), object(2), uint64(1)\n",
      "memory usage: 35.6+ MB\n",
      "None\n"
     ]
    },
    {
     "data": {
      "text/plain": [
       "<AxesSubplot:title={'center':'Cohortes: retención de usuarios/as'}, xlabel='cohort_lifetime', ylabel='first_activity_month'>"
      ]
     },
     "execution_count": 16,
     "metadata": {},
     "output_type": "execute_result"
    },
    {
     "data": {
      "image/png": "[encoded data removed]",
      "text/plain": [
       "<Figure size 936x648 with 2 Axes>"
      ]
     },
     "metadata": {},
     "output_type": "display_data"
    }
   ],
   "source": [
    "#determinar el primer inicio de sesion para iniciar el cohorte\n",
    "first_session_date = visits.groupby('uid')['start_ts'].min().reset_index()\n",
    "first_session_date.columns = ['uid','first_session_date']\n",
    "#capturar el primer mes de la sesion\n",
    "first_session_date['first_activity_month']=first_session_date['first_session_date'].astype('datetime64[M]')\n",
    "visits = visits.merge(first_session_date,on='uid') \n",
    "print(visits.info())\n",
    "#capturar el mes de las sesiones\n",
    "visits['activity_month']=visits['session_date'].astype('datetime64[M]')\n",
    "\n",
    "#visits['first_activity_month']=visits['first_session_date'].astype('datetime64[M]')\n",
    "visits['cohort_lifetime']=(visits['activity_month']-visits['first_activity_month'])\n",
    "visits['cohort_lifetime']=visits['cohort_lifetime']/ np.timedelta64(1, 'M')\n",
    "visits['cohort_lifetime']=visits['cohort_lifetime'].round().astype(int)\n",
    "cohorts1=visits.pivot_table(columns='cohort_lifetime',\n",
    "                  index='first_activity_month',\n",
    "                  values='uid',\n",
    "                  aggfunc='nunique')\n",
    "\n",
    "cohorts = (\n",
    "      visits.groupby(['first_activity_month', 'cohort_lifetime'])\n",
    "     .agg({'uid': 'nunique'})\n",
    "     .reset_index()\n",
    " ) \n",
    "initial_users_count=cohorts[cohorts['cohort_lifetime']==0][['first_activity_month','uid']]\n",
    "initial_users_count=initial_users_count.rename(columns={'uid':'cohort_users'})\n",
    "cohorts=cohorts.merge(initial_users_count,on='first_activity_month')\n",
    "cohorts['retention']=cohorts['uid'] / cohorts['cohort_users']\n",
    "\n",
    "retention_pivot = cohorts.pivot_table(\n",
    "     index='first_activity_month',\n",
    "     columns='cohort_lifetime',\n",
    "     values='retention',\n",
    "     aggfunc='sum',\n",
    " )\n",
    "sns.set(style='white')\n",
    "plt.figure(figsize=(13, 9))\n",
    "plt.title('Cohortes: retención de usuarios/as')\n",
    "sns.heatmap(\n",
    "     retention_pivot, annot=True, fmt='.1%', linewidths=1, linecolor='gray'\n",
    " ) \n"
   ]
  },
  {
   "cell_type": "markdown",
   "metadata": {},
   "source": [
    "por medio del grafico se observa claramente que hay una gran caida de usuarios en el segundo mes de cada cohorte y que despues en cada cohorte tiende a descender hasta el ultimo mes de su vida correspondiente"
   ]
  },
  {
   "cell_type": "markdown",
   "metadata": {},
   "source": [
    "<div class=\"alert alert-block alert-success\">\n",
    "<b>Comentario del revisor</b> <a class=\"tocSkip\"></a>\n",
    "\n",
    "Este es un análisis excelente, creaste la matriz de retención de forma precisa, elegiste la herramienta de visualización adecuada y además usaste porcentajes para representar el porcentaje de retención. Solo como sugerencia en la representación como mapa de calor de la matriz de retención, no hay necesidad de poner las fechas con el timestamp completo pues solo estás analizando mes a mes, hasta el día on incluso solo hasta el mes (pero si quieres evitar transformar el datetime no hay problema hasta el día) está perfectamente bien. Igualmente excelente respuesta.\n",
    "</div>"
   ]
  },
  {
   "cell_type": "markdown",
   "metadata": {},
   "source": [
    "## Ventas"
   ]
  },
  {
   "cell_type": "markdown",
   "metadata": {},
   "source": [
    "### ¿Cuándo la gente empieza a comprar? "
   ]
  },
  {
   "cell_type": "code",
   "execution_count": 17,
   "metadata": {},
   "outputs": [
    {
     "name": "stdout",
     "output_type": "stream",
     "text": [
      "0        0 days 00:20:00\n",
      "1        0 days 00:20:00\n",
      "2        0 days 15:11:00\n",
      "3        0 days 15:11:00\n",
      "4        0 days 15:11:00\n",
      "               ...      \n",
      "761802   0 days 00:04:00\n",
      "761803   0 days 00:10:00\n",
      "761804   0 days 00:06:00\n",
      "761805   0 days 00:05:00\n",
      "761806   0 days 00:14:00\n",
      "Length: 761807, dtype: timedelta64[ns]\n"
     ]
    }
   ],
   "source": [
    "#unir visits y orders por uid\n",
    "cr=visits.merge(orders,on='uid')\n",
    "#encontrar la primera compra de cada usuario\n",
    "first_buy= cr.groupby('uid')['buy_ts'].min().reset_index() \n",
    "first_buy.columns = ['uid','first_buy']\n",
    "cr_ultimate = cr.merge(first_buy,on='uid') \n",
    "\n",
    "#a partir de first_session_date determinar la diferencia con first_buy\n",
    "conversion=cr_ultimate['first_buy']-cr_ultimate['first_session_date']\n",
    "#determinar el promedio que tarda la gente en comprar algun articulo\n",
    "conversion_mean=conversion.mean()\n",
    "#imprimir el resultado donde indica cuando la gente empieza a comprar\n",
    "print(conversion)\n"
   ]
  },
  {
   "cell_type": "markdown",
   "metadata": {},
   "source": [
    "segun el resultado promedio la gente empieza a comprar a partir de los 17 dias 15 horas 37 minutos y 2 segundos"
   ]
  },
  {
   "cell_type": "code",
   "execution_count": 18,
   "metadata": {},
   "outputs": [
    {
     "data": {
      "image/png": "[encoded data removed]",
      "text/plain": [
       "<Figure size 720x432 with 1 Axes>"
      ]
     },
     "metadata": {},
     "output_type": "display_data"
    }
   ],
   "source": [
    "conversion_seconds = [delta.total_seconds() for delta in conversion]\n",
    "\n",
    "plt.figure(figsize=(10, 6))\n",
    "plt.hist(conversion_seconds, bins=30, color='green', edgecolor='black')\n",
    "plt.title('Histograma de Diferencia entre la Primera Sesión y la Primera Compra')\n",
    "plt.xlabel('Diferencia (segundos)')\n",
    "plt.ylabel('Frecuencia')\n",
    "plt.grid(True)\n",
    "plt.show()"
   ]
  },
  {
   "cell_type": "markdown",
   "metadata": {},
   "source": [
    "<div class=\"alert alert-block alert-danger\">\n",
    "<b>Comentario del revisor</b> <a class=\"tocSkip\"></a>\n",
    "\n",
    "En este caso es necesario realizar el análisis gráfico pertinenete, además que si este se va a obviar, es importante entonces explicar la razón y por qué la media es más explicativa que el gráfico elegido para representar en qué momento empiezan las personas a comprar, además el cálculo es necesario hacerle una correción: Es necesario comparar la primera sesión con la primera compra de cada usuario y no con todos los buy_ts pues así se puede determinar como a nivel de usuario, cuanto tarda uno al hacer la primera compra. Recuerda interpretar los resultados de acuerdo al problema, una espera de 130 días después del primer inicio de sesión es un poco elevado, que si bien puede existir, tras analizar los índices de retención es un contrasentido.\n",
    "</div>"
   ]
  },
  {
   "cell_type": "markdown",
   "metadata": {},
   "source": [
    "<div class=\"alert alert-block alert-warning\">\n",
    "<b>Comentario del revisor</b> <a class=\"tocSkip\"></a>\n",
    "\n",
    "Está bien ejecutado el algoritmo en este caso, aunque la gráfica no es la apropiada, en este caso un histograma sería mucho mejor, pues nos interesa saber cuantas compras se dan (frecuencia) en función de los días que pasan, y sería una mejor muestra que la media, debido a que existen valores tan extremos es una medida algo engañosa en este caso.\n",
    "</div>"
   ]
  },
  {
   "cell_type": "markdown",
   "metadata": {},
   "source": [
    "### ¿Cuántos pedidos hacen durante un período de tiempo dado?\n"
   ]
  },
  {
   "cell_type": "code",
   "execution_count": 19,
   "metadata": {},
   "outputs": [
    {
     "data": {
      "text/html": [
       "<div>\n",
       "<style scoped>\n",
       "    .dataframe tbody tr th:only-of-type {\n",
       "        vertical-align: middle;\n",
       "    }\n",
       "\n",
       "    .dataframe tbody tr th {\n",
       "        vertical-align: top;\n",
       "    }\n",
       "\n",
       "    .dataframe thead th {\n",
       "        text-align: right;\n",
       "    }\n",
       "</style>\n",
       "<table border=\"1\" class=\"dataframe\">\n",
       "  <thead>\n",
       "    <tr style=\"text-align: right;\">\n",
       "      <th>age</th>\n",
       "      <th>0</th>\n",
       "      <th>1</th>\n",
       "      <th>2</th>\n",
       "      <th>3</th>\n",
       "      <th>4</th>\n",
       "      <th>5</th>\n",
       "      <th>6</th>\n",
       "      <th>7</th>\n",
       "      <th>8</th>\n",
       "      <th>9</th>\n",
       "      <th>10</th>\n",
       "      <th>11</th>\n",
       "    </tr>\n",
       "    <tr>\n",
       "      <th>first_order_month</th>\n",
       "      <th></th>\n",
       "      <th></th>\n",
       "      <th></th>\n",
       "      <th></th>\n",
       "      <th></th>\n",
       "      <th></th>\n",
       "      <th></th>\n",
       "      <th></th>\n",
       "      <th></th>\n",
       "      <th></th>\n",
       "      <th></th>\n",
       "      <th></th>\n",
       "    </tr>\n",
       "  </thead>\n",
       "  <tbody>\n",
       "    <tr>\n",
       "      <th>2017-06-01</th>\n",
       "      <td>1.16</td>\n",
       "      <td>1.17</td>\n",
       "      <td>0.89</td>\n",
       "      <td>1.67</td>\n",
       "      <td>2.81</td>\n",
       "      <td>2.8</td>\n",
       "      <td>3.07</td>\n",
       "      <td>2.33</td>\n",
       "      <td>2.61</td>\n",
       "      <td>2.63</td>\n",
       "      <td>1.62</td>\n",
       "      <td>2.15</td>\n",
       "    </tr>\n",
       "    <tr>\n",
       "      <th>2017-07-01</th>\n",
       "      <td>1.23</td>\n",
       "      <td>0.94</td>\n",
       "      <td>1.76</td>\n",
       "      <td>2.95</td>\n",
       "      <td>2.94</td>\n",
       "      <td>3.23</td>\n",
       "      <td>2.46</td>\n",
       "      <td>2.75</td>\n",
       "      <td>2.77</td>\n",
       "      <td>1.7</td>\n",
       "      <td>2.26</td>\n",
       "      <td></td>\n",
       "    </tr>\n",
       "    <tr>\n",
       "      <th>2017-08-01</th>\n",
       "      <td>1.32</td>\n",
       "      <td>2.47</td>\n",
       "      <td>4.15</td>\n",
       "      <td>4.13</td>\n",
       "      <td>4.54</td>\n",
       "      <td>3.45</td>\n",
       "      <td>3.85</td>\n",
       "      <td>3.89</td>\n",
       "      <td>2.39</td>\n",
       "      <td>3.17</td>\n",
       "      <td></td>\n",
       "      <td></td>\n",
       "    </tr>\n",
       "    <tr>\n",
       "      <th>2017-09-01</th>\n",
       "      <td>1.31</td>\n",
       "      <td>2.2</td>\n",
       "      <td>2.19</td>\n",
       "      <td>2.41</td>\n",
       "      <td>1.83</td>\n",
       "      <td>2.05</td>\n",
       "      <td>2.06</td>\n",
       "      <td>1.27</td>\n",
       "      <td>1.68</td>\n",
       "      <td></td>\n",
       "      <td></td>\n",
       "      <td></td>\n",
       "    </tr>\n",
       "    <tr>\n",
       "      <th>2017-10-01</th>\n",
       "      <td>1.31</td>\n",
       "      <td>1.3</td>\n",
       "      <td>1.43</td>\n",
       "      <td>1.09</td>\n",
       "      <td>1.22</td>\n",
       "      <td>1.23</td>\n",
       "      <td>0.75</td>\n",
       "      <td>1.0</td>\n",
       "      <td></td>\n",
       "      <td></td>\n",
       "      <td></td>\n",
       "      <td></td>\n",
       "    </tr>\n",
       "    <tr>\n",
       "      <th>2017-11-01</th>\n",
       "      <td>1.39</td>\n",
       "      <td>1.52</td>\n",
       "      <td>1.16</td>\n",
       "      <td>1.29</td>\n",
       "      <td>1.31</td>\n",
       "      <td>0.8</td>\n",
       "      <td>1.06</td>\n",
       "      <td></td>\n",
       "      <td></td>\n",
       "      <td></td>\n",
       "      <td></td>\n",
       "      <td></td>\n",
       "    </tr>\n",
       "    <tr>\n",
       "      <th>2017-12-01</th>\n",
       "      <td>1.42</td>\n",
       "      <td>1.08</td>\n",
       "      <td>1.2</td>\n",
       "      <td>1.22</td>\n",
       "      <td>0.75</td>\n",
       "      <td>0.99</td>\n",
       "      <td></td>\n",
       "      <td></td>\n",
       "      <td></td>\n",
       "      <td></td>\n",
       "      <td></td>\n",
       "      <td></td>\n",
       "    </tr>\n",
       "    <tr>\n",
       "      <th>2018-01-01</th>\n",
       "      <td>1.40</td>\n",
       "      <td>1.57</td>\n",
       "      <td>1.58</td>\n",
       "      <td>0.97</td>\n",
       "      <td>1.29</td>\n",
       "      <td></td>\n",
       "      <td></td>\n",
       "      <td></td>\n",
       "      <td></td>\n",
       "      <td></td>\n",
       "      <td></td>\n",
       "      <td></td>\n",
       "    </tr>\n",
       "    <tr>\n",
       "      <th>2018-02-01</th>\n",
       "      <td>1.45</td>\n",
       "      <td>1.46</td>\n",
       "      <td>0.9</td>\n",
       "      <td>1.19</td>\n",
       "      <td></td>\n",
       "      <td></td>\n",
       "      <td></td>\n",
       "      <td></td>\n",
       "      <td></td>\n",
       "      <td></td>\n",
       "      <td></td>\n",
       "      <td></td>\n",
       "    </tr>\n",
       "    <tr>\n",
       "      <th>2018-03-01</th>\n",
       "      <td>1.51</td>\n",
       "      <td>0.93</td>\n",
       "      <td>1.23</td>\n",
       "      <td></td>\n",
       "      <td></td>\n",
       "      <td></td>\n",
       "      <td></td>\n",
       "      <td></td>\n",
       "      <td></td>\n",
       "      <td></td>\n",
       "      <td></td>\n",
       "      <td></td>\n",
       "    </tr>\n",
       "    <tr>\n",
       "      <th>2018-04-01</th>\n",
       "      <td>1.44</td>\n",
       "      <td>1.91</td>\n",
       "      <td></td>\n",
       "      <td></td>\n",
       "      <td></td>\n",
       "      <td></td>\n",
       "      <td></td>\n",
       "      <td></td>\n",
       "      <td></td>\n",
       "      <td></td>\n",
       "      <td></td>\n",
       "      <td></td>\n",
       "    </tr>\n",
       "    <tr>\n",
       "      <th>2018-05-01</th>\n",
       "      <td>1.45</td>\n",
       "      <td></td>\n",
       "      <td></td>\n",
       "      <td></td>\n",
       "      <td></td>\n",
       "      <td></td>\n",
       "      <td></td>\n",
       "      <td></td>\n",
       "      <td></td>\n",
       "      <td></td>\n",
       "      <td></td>\n",
       "      <td></td>\n",
       "    </tr>\n",
       "    <tr>\n",
       "      <th>2018-06-01</th>\n",
       "      <td>1.00</td>\n",
       "      <td></td>\n",
       "      <td></td>\n",
       "      <td></td>\n",
       "      <td></td>\n",
       "      <td></td>\n",
       "      <td></td>\n",
       "      <td></td>\n",
       "      <td></td>\n",
       "      <td></td>\n",
       "      <td></td>\n",
       "      <td></td>\n",
       "    </tr>\n",
       "  </tbody>\n",
       "</table>\n",
       "</div>"
      ],
      "text/plain": [
       "age                  0     1     2     3     4     5     6     7     8     9   \\\n",
       "first_order_month                                                               \n",
       "2017-06-01         1.16  1.17  0.89  1.67  2.81   2.8  3.07  2.33  2.61  2.63   \n",
       "2017-07-01         1.23  0.94  1.76  2.95  2.94  3.23  2.46  2.75  2.77   1.7   \n",
       "2017-08-01         1.32  2.47  4.15  4.13  4.54  3.45  3.85  3.89  2.39  3.17   \n",
       "2017-09-01         1.31   2.2  2.19  2.41  1.83  2.05  2.06  1.27  1.68         \n",
       "2017-10-01         1.31   1.3  1.43  1.09  1.22  1.23  0.75   1.0               \n",
       "2017-11-01         1.39  1.52  1.16  1.29  1.31   0.8  1.06                     \n",
       "2017-12-01         1.42  1.08   1.2  1.22  0.75  0.99                           \n",
       "2018-01-01         1.40  1.57  1.58  0.97  1.29                                 \n",
       "2018-02-01         1.45  1.46   0.9  1.19                                       \n",
       "2018-03-01         1.51  0.93  1.23                                             \n",
       "2018-04-01         1.44  1.91                                                   \n",
       "2018-05-01         1.45                                                         \n",
       "2018-06-01         1.00                                                         \n",
       "\n",
       "age                  10    11  \n",
       "first_order_month              \n",
       "2017-06-01         1.62  2.15  \n",
       "2017-07-01         2.26        \n",
       "2017-08-01                     \n",
       "2017-09-01                     \n",
       "2017-10-01                     \n",
       "2017-11-01                     \n",
       "2017-12-01                     \n",
       "2018-01-01                     \n",
       "2018-02-01                     \n",
       "2018-03-01                     \n",
       "2018-04-01                     \n",
       "2018-05-01                     \n",
       "2018-06-01                     "
      ]
     },
     "execution_count": 19,
     "metadata": {},
     "output_type": "execute_result"
    }
   ],
   "source": [
    "#recuperar el mes de la  compra de cada cliente\n",
    "orders['order_month'] = orders['buy_ts'].astype('datetime64[M]')\n",
    "#recuperar el mes de los costos\n",
    "#costs['month'] = costs['dt'].astype('datetime64[M]') \n",
    "#Ahora recuperemos el mes de la primera compra de cada cliente:\n",
    "first_orders1 = orders.groupby('uid').agg({'order_month': 'min'}).reset_index()\n",
    "first_orders1.columns = ['uid', 'first_order_month']\n",
    "\n",
    "#Calcularemos el número de clientes (n_buyers) para cada mes:\n",
    "cohort_sizes1 = first_orders1.groupby('first_order_month').agg({'uid': 'nunique'}).reset_index()\n",
    "cohort_sizes1.columns = ['first_order_month', 'n_buyers']\n",
    "#Creemos cohortes. Vamos a agregar los meses de la primera compra de los clientes y clientas a la tabla de pedidos:\n",
    "orders_1 = pd.merge(orders,first_orders1, on='uid')\n",
    "#Ahora vamos a agrupar la tabla de pedidos por mes de la primera compra y mes de la compra y encontrar el numero de clientes unicos\n",
    "cohorts1 = orders_1.groupby(['first_order_month','order_month']).agg({'uid': 'nunique'}).reset_index()\n",
    "#Agreguemos datos sobre cuántos usuarios realizaron sus primeras compras en cada mes a la tabla cohorts\n",
    "report1 = pd.merge(cohort_sizes1, cohorts1, on='first_order_month')\n",
    "report1.head() \n",
    "\n",
    "# Agrupar por 'order_month' y contar el número de compras\n",
    "n_compras_por_mes = orders.groupby('order_month')['uid'].count().reset_index()\n",
    "\n",
    "# Renombrar la columna 'uid' a 'n_compras'\n",
    "n_compras_por_mes.columns = ['order_month', 'n_compras']\n",
    "\n",
    "# Ahora, puedes fusionar 'report1' y 'n_compras_por_mes' por 'order_month'\n",
    "report1 = report1.merge(n_compras_por_mes, on='order_month', how='left')\n",
    "#así que hagamos que las columnas muestren la edad de la cohorte en lugar del mes del pedido\n",
    "report1['age'] = (\n",
    "    report1['order_month'] - report1['first_order_month']\n",
    ") / np.timedelta64(1, 'M')\n",
    "report1['age'] = report1['age'].round().astype('int')\n",
    "#calcular cuantas compras se hace por cada comprador\n",
    "report1['promedio']=report1['n_compras']/report1['n_buyers']\n",
    "output = report1.pivot_table(\n",
    "    index='first_order_month', columns='age', values='promedio', aggfunc='mean'\n",
    ").round(2)\n",
    "\n",
    "output.fillna('') \n"
   ]
  },
  {
   "cell_type": "markdown",
   "metadata": {},
   "source": [
    "hay una tendencia que los primeros cohortes tienden a tener mas compras promedio que las ultimas\n"
   ]
  },
  {
   "cell_type": "markdown",
   "metadata": {},
   "source": [
    "<div class=\"alert alert-block alert-danger\">\n",
    "<b>Comentario del revisor</b> <a class=\"tocSkip\"></a>\n",
    "\n",
    "Para este punto es necesario no usar una cifra en particular si no analizar cada periodo de tiempo, se sugiere realizar una matriz similar a la de retención en donde se encuentren los usuarios por cohorte y cuantas compras se hacen por cada comprador de ese mes en promedio (con la cantidad de ordenes totales ese mes) de esta manera se puede visualizar por cohore, de aquellos que son compradores, cuantos pedidos hacen por mes en promedio, con la matriz quedaría muy bien representado graficamente.\n",
    "</div>\n"
   ]
  },
  {
   "cell_type": "markdown",
   "metadata": {},
   "source": [
    "<div class=\"alert alert-block alert-danger\">\n",
    "<b>Comentario del revisor</b> <a class=\"tocSkip\"></a>\n",
    "\n",
    "Muy bien la creación de la matriz, esto era lo esperado, haz hecho la parte más complicada ya, aunque es necesario detallar que el promedio se encuentra al revés, en este caso calculaste la cantidad de usuarios por compra, no de compras por usuario y el promedio se debe realizar solo por los compradores, no todo el uid, pues una vez corrijas el promedio si lo sigues haciendo con todo el espectro serán valores muy altos, pero se debe comparar compradores con compradores, es decir corrige el promedio para que sea número de comrpas (n_compras) por número de compradores (n_buyers). Una vez apliques estas correciones, estará listo!.\n",
    "</div>\n"
   ]
  },
  {
   "cell_type": "markdown",
   "metadata": {},
   "source": [
    "<div class=\"alert alert-block alert-success\">\n",
    "<b>Comentario del revisor</b> <a class=\"tocSkip\"></a>\n",
    "\n",
    "Muy bien, seguiste las recomendaciones como se esperaba!\n",
    "</div>"
   ]
  },
  {
   "cell_type": "markdown",
   "metadata": {},
   "source": [
    "### ¿Cuál es el tamaño promedio de compra?\n"
   ]
  },
  {
   "cell_type": "code",
   "execution_count": 20,
   "metadata": {},
   "outputs": [
    {
     "data": {
      "text/html": [
       "<div>\n",
       "<style scoped>\n",
       "    .dataframe tbody tr th:only-of-type {\n",
       "        vertical-align: middle;\n",
       "    }\n",
       "\n",
       "    .dataframe tbody tr th {\n",
       "        vertical-align: top;\n",
       "    }\n",
       "\n",
       "    .dataframe thead th {\n",
       "        text-align: right;\n",
       "    }\n",
       "</style>\n",
       "<table border=\"1\" class=\"dataframe\">\n",
       "  <thead>\n",
       "    <tr style=\"text-align: right;\">\n",
       "      <th>age</th>\n",
       "      <th>0</th>\n",
       "      <th>1</th>\n",
       "      <th>2</th>\n",
       "      <th>3</th>\n",
       "      <th>4</th>\n",
       "      <th>5</th>\n",
       "      <th>6</th>\n",
       "      <th>7</th>\n",
       "      <th>8</th>\n",
       "      <th>9</th>\n",
       "      <th>10</th>\n",
       "      <th>11</th>\n",
       "    </tr>\n",
       "    <tr>\n",
       "      <th>first_order_month</th>\n",
       "      <th></th>\n",
       "      <th></th>\n",
       "      <th></th>\n",
       "      <th></th>\n",
       "      <th></th>\n",
       "      <th></th>\n",
       "      <th></th>\n",
       "      <th></th>\n",
       "      <th></th>\n",
       "      <th></th>\n",
       "      <th></th>\n",
       "      <th></th>\n",
       "    </tr>\n",
       "  </thead>\n",
       "  <tbody>\n",
       "    <tr>\n",
       "      <th>2017-06-01</th>\n",
       "      <td>4.72</td>\n",
       "      <td>0.49</td>\n",
       "      <td>0.6</td>\n",
       "      <td>0.7</td>\n",
       "      <td>0.44</td>\n",
       "      <td>0.33</td>\n",
       "      <td>0.39</td>\n",
       "      <td>0.3</td>\n",
       "      <td>0.26</td>\n",
       "      <td>0.29</td>\n",
       "      <td>0.42</td>\n",
       "      <td>0.15</td>\n",
       "    </tr>\n",
       "    <tr>\n",
       "      <th>2017-07-01</th>\n",
       "      <td>5.83</td>\n",
       "      <td>0.44</td>\n",
       "      <td>0.44</td>\n",
       "      <td>0.15</td>\n",
       "      <td>0.07</td>\n",
       "      <td>0.06</td>\n",
       "      <td>0.06</td>\n",
       "      <td>0.06</td>\n",
       "      <td>0.07</td>\n",
       "      <td>0.1</td>\n",
       "      <td>0.08</td>\n",
       "      <td></td>\n",
       "    </tr>\n",
       "    <tr>\n",
       "      <th>2017-08-01</th>\n",
       "      <td>4.91</td>\n",
       "      <td>0.24</td>\n",
       "      <td>0.13</td>\n",
       "      <td>0.12</td>\n",
       "      <td>0.14</td>\n",
       "      <td>0.1</td>\n",
       "      <td>0.07</td>\n",
       "      <td>0.13</td>\n",
       "      <td>0.15</td>\n",
       "      <td>0.07</td>\n",
       "      <td></td>\n",
       "      <td></td>\n",
       "    </tr>\n",
       "    <tr>\n",
       "      <th>2017-09-01</th>\n",
       "      <td>5.30</td>\n",
       "      <td>0.62</td>\n",
       "      <td>0.3</td>\n",
       "      <td>2.08</td>\n",
       "      <td>0.27</td>\n",
       "      <td>0.39</td>\n",
       "      <td>0.43</td>\n",
       "      <td>0.23</td>\n",
       "      <td>0.13</td>\n",
       "      <td></td>\n",
       "      <td></td>\n",
       "      <td></td>\n",
       "    </tr>\n",
       "    <tr>\n",
       "      <th>2017-10-01</th>\n",
       "      <td>4.65</td>\n",
       "      <td>0.51</td>\n",
       "      <td>0.17</td>\n",
       "      <td>0.17</td>\n",
       "      <td>0.15</td>\n",
       "      <td>0.12</td>\n",
       "      <td>0.13</td>\n",
       "      <td>0.14</td>\n",
       "      <td></td>\n",
       "      <td></td>\n",
       "      <td></td>\n",
       "      <td></td>\n",
       "    </tr>\n",
       "    <tr>\n",
       "      <th>2017-11-01</th>\n",
       "      <td>4.63</td>\n",
       "      <td>0.33</td>\n",
       "      <td>0.21</td>\n",
       "      <td>0.31</td>\n",
       "      <td>0.14</td>\n",
       "      <td>0.08</td>\n",
       "      <td>0.13</td>\n",
       "      <td></td>\n",
       "      <td></td>\n",
       "      <td></td>\n",
       "      <td></td>\n",
       "      <td></td>\n",
       "    </tr>\n",
       "    <tr>\n",
       "      <th>2017-12-01</th>\n",
       "      <td>4.20</td>\n",
       "      <td>0.29</td>\n",
       "      <td>0.95</td>\n",
       "      <td>1.12</td>\n",
       "      <td>0.5</td>\n",
       "      <td>0.42</td>\n",
       "      <td></td>\n",
       "      <td></td>\n",
       "      <td></td>\n",
       "      <td></td>\n",
       "      <td></td>\n",
       "      <td></td>\n",
       "    </tr>\n",
       "    <tr>\n",
       "      <th>2018-01-01</th>\n",
       "      <td>3.58</td>\n",
       "      <td>0.23</td>\n",
       "      <td>0.25</td>\n",
       "      <td>0.18</td>\n",
       "      <td>0.06</td>\n",
       "      <td></td>\n",
       "      <td></td>\n",
       "      <td></td>\n",
       "      <td></td>\n",
       "      <td></td>\n",
       "      <td></td>\n",
       "      <td></td>\n",
       "    </tr>\n",
       "    <tr>\n",
       "      <th>2018-02-01</th>\n",
       "      <td>3.56</td>\n",
       "      <td>0.24</td>\n",
       "      <td>0.1</td>\n",
       "      <td>0.08</td>\n",
       "      <td></td>\n",
       "      <td></td>\n",
       "      <td></td>\n",
       "      <td></td>\n",
       "      <td></td>\n",
       "      <td></td>\n",
       "      <td></td>\n",
       "      <td></td>\n",
       "    </tr>\n",
       "    <tr>\n",
       "      <th>2018-03-01</th>\n",
       "      <td>4.09</td>\n",
       "      <td>0.39</td>\n",
       "      <td>0.31</td>\n",
       "      <td></td>\n",
       "      <td></td>\n",
       "      <td></td>\n",
       "      <td></td>\n",
       "      <td></td>\n",
       "      <td></td>\n",
       "      <td></td>\n",
       "      <td></td>\n",
       "      <td></td>\n",
       "    </tr>\n",
       "    <tr>\n",
       "      <th>2018-04-01</th>\n",
       "      <td>3.86</td>\n",
       "      <td>0.34</td>\n",
       "      <td></td>\n",
       "      <td></td>\n",
       "      <td></td>\n",
       "      <td></td>\n",
       "      <td></td>\n",
       "      <td></td>\n",
       "      <td></td>\n",
       "      <td></td>\n",
       "      <td></td>\n",
       "      <td></td>\n",
       "    </tr>\n",
       "    <tr>\n",
       "      <th>2018-05-01</th>\n",
       "      <td>3.93</td>\n",
       "      <td></td>\n",
       "      <td></td>\n",
       "      <td></td>\n",
       "      <td></td>\n",
       "      <td></td>\n",
       "      <td></td>\n",
       "      <td></td>\n",
       "      <td></td>\n",
       "      <td></td>\n",
       "      <td></td>\n",
       "      <td></td>\n",
       "    </tr>\n",
       "    <tr>\n",
       "      <th>2018-06-01</th>\n",
       "      <td>3.42</td>\n",
       "      <td></td>\n",
       "      <td></td>\n",
       "      <td></td>\n",
       "      <td></td>\n",
       "      <td></td>\n",
       "      <td></td>\n",
       "      <td></td>\n",
       "      <td></td>\n",
       "      <td></td>\n",
       "      <td></td>\n",
       "      <td></td>\n",
       "    </tr>\n",
       "  </tbody>\n",
       "</table>\n",
       "</div>"
      ],
      "text/plain": [
       "age                  0     1     2     3     4     5     6     7     8     9   \\\n",
       "first_order_month                                                               \n",
       "2017-06-01         4.72  0.49   0.6   0.7  0.44  0.33  0.39   0.3  0.26  0.29   \n",
       "2017-07-01         5.83  0.44  0.44  0.15  0.07  0.06  0.06  0.06  0.07   0.1   \n",
       "2017-08-01         4.91  0.24  0.13  0.12  0.14   0.1  0.07  0.13  0.15  0.07   \n",
       "2017-09-01         5.30  0.62   0.3  2.08  0.27  0.39  0.43  0.23  0.13         \n",
       "2017-10-01         4.65  0.51  0.17  0.17  0.15  0.12  0.13  0.14               \n",
       "2017-11-01         4.63  0.33  0.21  0.31  0.14  0.08  0.13                     \n",
       "2017-12-01         4.20  0.29  0.95  1.12   0.5  0.42                           \n",
       "2018-01-01         3.58  0.23  0.25  0.18  0.06                                 \n",
       "2018-02-01         3.56  0.24   0.1  0.08                                       \n",
       "2018-03-01         4.09  0.39  0.31                                             \n",
       "2018-04-01         3.86  0.34                                                   \n",
       "2018-05-01         3.93                                                         \n",
       "2018-06-01         3.42                                                         \n",
       "\n",
       "age                  10    11  \n",
       "first_order_month              \n",
       "2017-06-01         0.42  0.15  \n",
       "2017-07-01         0.08        \n",
       "2017-08-01                     \n",
       "2017-09-01                     \n",
       "2017-10-01                     \n",
       "2017-11-01                     \n",
       "2017-12-01                     \n",
       "2018-01-01                     \n",
       "2018-02-01                     \n",
       "2018-03-01                     \n",
       "2018-04-01                     \n",
       "2018-05-01                     \n",
       "2018-06-01                     "
      ]
     },
     "execution_count": 20,
     "metadata": {},
     "output_type": "execute_result"
    }
   ],
   "source": [
    "#recuperar el mes de la  compra de cada cliente\n",
    "orders['order_month'] = orders['buy_ts'].astype('datetime64[M]')\n",
    "\n",
    "#Ahora recuperemos el mes de la primera compra de cada cliente:\n",
    "first_orders2 = orders.groupby('uid').agg({'order_month': 'min'}).reset_index()\n",
    "first_orders2.columns = ['uid', 'first_order_month']\n",
    "\n",
    "#Calcularemos el número de clientes (n_buyers) para cada mes:\n",
    "cohort_sizes2 = first_orders2.groupby('first_order_month').agg({'uid': 'nunique'}).reset_index()\n",
    "cohort_sizes2.columns = ['first_order_month', 'n_buyers']\n",
    "#Creemos cohortes. Vamos a agregar los meses de la primera compra de los clientes y clientas a la tabla de pedidos:\n",
    "orders_2 = pd.merge(orders,first_orders2, on='uid')\n",
    "#Ahora vamos a agrupar la tabla de pedidos por mes de la primera compra y mes de la compra y encontrar el numero de clientes unicos\n",
    "cohorts2 = orders_2.groupby(['first_order_month','order_month']).agg({'revenue': 'sum'}).reset_index()\n",
    "#Agreguemos datos sobre cuántos usuarios realizaron sus primeras compras en cada mes a la tabla cohorts\n",
    "report2 = pd.merge(cohort_sizes2, cohorts2, on='first_order_month')\n",
    "report2.head() \n",
    "\n",
    "# Agrupar por 'order_month' y contar el número de compras\n",
    "n_compras_por_mes2 = orders.groupby('order_month')['uid'].nunique().reset_index()\n",
    "\n",
    "# Renombrar la columna 'uid' a 'n_compras'\n",
    "n_compras_por_mes2.columns = ['order_month', 'n_compras']\n",
    "\n",
    "# Ahora, puedes fusionar 'report1' y 'n_compras_por_mes' por 'order_month'\n",
    "report2 = report2.merge(n_compras_por_mes2, on='order_month', how='left')\n",
    "#así que hagamos que las columnas muestren la edad de la cohorte en lugar del mes del pedido\n",
    "report2['age'] = (\n",
    "    report2['order_month'] - report2['first_order_month']\n",
    ") / np.timedelta64(1, 'M')\n",
    "report2['age'] = report2['age'].round().astype('int')\n",
    "#hallar tamaño promedio por compra\n",
    "report2['size_per_purchase'] = report2['revenue'] / report2['n_compras']\n",
    "\n",
    "output = report2.pivot_table(\n",
    "    index='first_order_month', columns='age', values='size_per_purchase', aggfunc='mean'\n",
    ").round(2)\n",
    "\n",
    "output.fillna('') \n"
   ]
  },
  {
   "cell_type": "markdown",
   "metadata": {},
   "source": [
    "mediante la tabla se ve que el tamaño de la primera compra en el primer mes es significativamente superior al de los demas meses"
   ]
  },
  {
   "cell_type": "markdown",
   "metadata": {},
   "source": [
    "<div class=\"alert alert-block alert-danger\">\n",
    "<b>Comentario del revisor</b> <a class=\"tocSkip\"></a>\n",
    "\n",
    "En este caso es necesario volver al análisis de cohortes para entender el tamaño promedio de cada compra y posteriormente estimar la media, en este caso es seguir con la lógica de cohortes para analizar el comportamiento de las compras a lo largo del tiempo. Además esto puede ser mostrado graficamente. \n",
    "</div>"
   ]
  },
  {
   "cell_type": "markdown",
   "metadata": {},
   "source": [
    "<div class=\"alert alert-block alert-danger\">\n",
    "<b>Comentario del revisor</b> <a class=\"tocSkip\"></a>\n",
    "\n",
    "Aquí creo que hay que reevaluar la interpretación del problema, cuando se habla del promedio de compra es cuánto es el tamaño por cada compra, para esto es práctico la columna revenue, en este caso estimaste como evoluciona cada cohorte en total a lo largo de su edad y por eso se ve esta forma descendente, porque las cohorte más antiguas tienen más historial de compra. En este caso hay que estimar cual es el tamaño por cada compra usando revenue. Si quieres usar otra aproximación es: La media del revenue y crear una gráfica a partir de una tabla de pivoteo que muestre la evolución de la media del revenue a través de los meses (order_month) o presiguir con el análisis de cohortes pero estimando el tamaño y no la suma de las cohortes progresivamente.\n",
    "</div>"
   ]
  },
  {
   "cell_type": "markdown",
   "metadata": {},
   "source": [
    "<div class=\"alert alert-block alert-success\">\n",
    "<b>Comentario del revisor</b> <a class=\"tocSkip\"></a>\n",
    "\n",
    "Muy bien, seguiste las recomendaciones como se esperaba!\n",
    "</div>"
   ]
  },
  {
   "cell_type": "markdown",
   "metadata": {},
   "source": [
    "### ¿Cuánto dinero traen? (LTV)\n"
   ]
  },
  {
   "cell_type": "code",
   "execution_count": 21,
   "metadata": {},
   "outputs": [
    {
     "data": {
      "text/html": [
       "<div>\n",
       "<style scoped>\n",
       "    .dataframe tbody tr th:only-of-type {\n",
       "        vertical-align: middle;\n",
       "    }\n",
       "\n",
       "    .dataframe tbody tr th {\n",
       "        vertical-align: top;\n",
       "    }\n",
       "\n",
       "    .dataframe thead th {\n",
       "        text-align: right;\n",
       "    }\n",
       "</style>\n",
       "<table border=\"1\" class=\"dataframe\">\n",
       "  <thead>\n",
       "    <tr style=\"text-align: right;\">\n",
       "      <th>age</th>\n",
       "      <th>0</th>\n",
       "      <th>1</th>\n",
       "      <th>2</th>\n",
       "      <th>3</th>\n",
       "      <th>4</th>\n",
       "      <th>5</th>\n",
       "      <th>6</th>\n",
       "      <th>7</th>\n",
       "      <th>8</th>\n",
       "      <th>9</th>\n",
       "      <th>10</th>\n",
       "      <th>11</th>\n",
       "    </tr>\n",
       "    <tr>\n",
       "      <th>first_order_month</th>\n",
       "      <th></th>\n",
       "      <th></th>\n",
       "      <th></th>\n",
       "      <th></th>\n",
       "      <th></th>\n",
       "      <th></th>\n",
       "      <th></th>\n",
       "      <th></th>\n",
       "      <th></th>\n",
       "      <th></th>\n",
       "      <th></th>\n",
       "      <th></th>\n",
       "    </tr>\n",
       "  </thead>\n",
       "  <tbody>\n",
       "    <tr>\n",
       "      <th>2017-06-01</th>\n",
       "      <td>4.72</td>\n",
       "      <td>5.21</td>\n",
       "      <td>5.65</td>\n",
       "      <td>6.6</td>\n",
       "      <td>7.62</td>\n",
       "      <td>8.36</td>\n",
       "      <td>9.31</td>\n",
       "      <td>9.89</td>\n",
       "      <td>10.44</td>\n",
       "      <td>11.05</td>\n",
       "      <td>11.62</td>\n",
       "      <td>11.88</td>\n",
       "    </tr>\n",
       "    <tr>\n",
       "      <th>2017-07-01</th>\n",
       "      <td>6.01</td>\n",
       "      <td>6.35</td>\n",
       "      <td>6.97</td>\n",
       "      <td>7.33</td>\n",
       "      <td>7.51</td>\n",
       "      <td>7.67</td>\n",
       "      <td>7.79</td>\n",
       "      <td>7.93</td>\n",
       "      <td>8.09</td>\n",
       "      <td>8.24</td>\n",
       "      <td>8.4</td>\n",
       "      <td></td>\n",
       "    </tr>\n",
       "    <tr>\n",
       "      <th>2017-08-01</th>\n",
       "      <td>5.28</td>\n",
       "      <td>5.75</td>\n",
       "      <td>6.21</td>\n",
       "      <td>6.6</td>\n",
       "      <td>7.09</td>\n",
       "      <td>7.37</td>\n",
       "      <td>7.58</td>\n",
       "      <td>7.99</td>\n",
       "      <td>8.28</td>\n",
       "      <td>8.47</td>\n",
       "      <td></td>\n",
       "      <td></td>\n",
       "    </tr>\n",
       "    <tr>\n",
       "      <th>2017-09-01</th>\n",
       "      <td>5.64</td>\n",
       "      <td>6.76</td>\n",
       "      <td>7.28</td>\n",
       "      <td>11.26</td>\n",
       "      <td>11.66</td>\n",
       "      <td>12.31</td>\n",
       "      <td>13.01</td>\n",
       "      <td>13.25</td>\n",
       "      <td>13.43</td>\n",
       "      <td></td>\n",
       "      <td></td>\n",
       "      <td></td>\n",
       "    </tr>\n",
       "    <tr>\n",
       "      <th>2017-10-01</th>\n",
       "      <td>5.00</td>\n",
       "      <td>5.54</td>\n",
       "      <td>5.73</td>\n",
       "      <td>5.89</td>\n",
       "      <td>6.04</td>\n",
       "      <td>6.16</td>\n",
       "      <td>6.24</td>\n",
       "      <td>6.36</td>\n",
       "      <td></td>\n",
       "      <td></td>\n",
       "      <td></td>\n",
       "      <td></td>\n",
       "    </tr>\n",
       "    <tr>\n",
       "      <th>2017-11-01</th>\n",
       "      <td>5.15</td>\n",
       "      <td>5.55</td>\n",
       "      <td>5.75</td>\n",
       "      <td>6.07</td>\n",
       "      <td>6.22</td>\n",
       "      <td>6.27</td>\n",
       "      <td>6.38</td>\n",
       "      <td></td>\n",
       "      <td></td>\n",
       "      <td></td>\n",
       "      <td></td>\n",
       "      <td></td>\n",
       "    </tr>\n",
       "    <tr>\n",
       "      <th>2017-12-01</th>\n",
       "      <td>4.74</td>\n",
       "      <td>5.0</td>\n",
       "      <td>5.93</td>\n",
       "      <td>7.0</td>\n",
       "      <td>7.31</td>\n",
       "      <td>7.65</td>\n",
       "      <td></td>\n",
       "      <td></td>\n",
       "      <td></td>\n",
       "      <td></td>\n",
       "      <td></td>\n",
       "      <td></td>\n",
       "    </tr>\n",
       "    <tr>\n",
       "      <th>2018-01-01</th>\n",
       "      <td>4.14</td>\n",
       "      <td>4.43</td>\n",
       "      <td>4.73</td>\n",
       "      <td>4.87</td>\n",
       "      <td>4.93</td>\n",
       "      <td></td>\n",
       "      <td></td>\n",
       "      <td></td>\n",
       "      <td></td>\n",
       "      <td></td>\n",
       "      <td></td>\n",
       "      <td></td>\n",
       "    </tr>\n",
       "    <tr>\n",
       "      <th>2018-02-01</th>\n",
       "      <td>4.16</td>\n",
       "      <td>4.44</td>\n",
       "      <td>4.52</td>\n",
       "      <td>4.59</td>\n",
       "      <td></td>\n",
       "      <td></td>\n",
       "      <td></td>\n",
       "      <td></td>\n",
       "      <td></td>\n",
       "      <td></td>\n",
       "      <td></td>\n",
       "      <td></td>\n",
       "    </tr>\n",
       "    <tr>\n",
       "      <th>2018-03-01</th>\n",
       "      <td>4.84</td>\n",
       "      <td>5.14</td>\n",
       "      <td>5.46</td>\n",
       "      <td></td>\n",
       "      <td></td>\n",
       "      <td></td>\n",
       "      <td></td>\n",
       "      <td></td>\n",
       "      <td></td>\n",
       "      <td></td>\n",
       "      <td></td>\n",
       "      <td></td>\n",
       "    </tr>\n",
       "    <tr>\n",
       "      <th>2018-04-01</th>\n",
       "      <td>4.66</td>\n",
       "      <td>5.19</td>\n",
       "      <td></td>\n",
       "      <td></td>\n",
       "      <td></td>\n",
       "      <td></td>\n",
       "      <td></td>\n",
       "      <td></td>\n",
       "      <td></td>\n",
       "      <td></td>\n",
       "      <td></td>\n",
       "      <td></td>\n",
       "    </tr>\n",
       "    <tr>\n",
       "      <th>2018-05-01</th>\n",
       "      <td>4.66</td>\n",
       "      <td></td>\n",
       "      <td></td>\n",
       "      <td></td>\n",
       "      <td></td>\n",
       "      <td></td>\n",
       "      <td></td>\n",
       "      <td></td>\n",
       "      <td></td>\n",
       "      <td></td>\n",
       "      <td></td>\n",
       "      <td></td>\n",
       "    </tr>\n",
       "    <tr>\n",
       "      <th>2018-06-01</th>\n",
       "      <td>3.42</td>\n",
       "      <td></td>\n",
       "      <td></td>\n",
       "      <td></td>\n",
       "      <td></td>\n",
       "      <td></td>\n",
       "      <td></td>\n",
       "      <td></td>\n",
       "      <td></td>\n",
       "      <td></td>\n",
       "      <td></td>\n",
       "      <td></td>\n",
       "    </tr>\n",
       "  </tbody>\n",
       "</table>\n",
       "</div>"
      ],
      "text/plain": [
       "age                  0     1     2      3      4      5      6      7      8   \\\n",
       "first_order_month                                                               \n",
       "2017-06-01         4.72  5.21  5.65    6.6   7.62   8.36   9.31   9.89  10.44   \n",
       "2017-07-01         6.01  6.35  6.97   7.33   7.51   7.67   7.79   7.93   8.09   \n",
       "2017-08-01         5.28  5.75  6.21    6.6   7.09   7.37   7.58   7.99   8.28   \n",
       "2017-09-01         5.64  6.76  7.28  11.26  11.66  12.31  13.01  13.25  13.43   \n",
       "2017-10-01         5.00  5.54  5.73   5.89   6.04   6.16   6.24   6.36          \n",
       "2017-11-01         5.15  5.55  5.75   6.07   6.22   6.27   6.38                 \n",
       "2017-12-01         4.74   5.0  5.93    7.0   7.31   7.65                        \n",
       "2018-01-01         4.14  4.43  4.73   4.87   4.93                               \n",
       "2018-02-01         4.16  4.44  4.52   4.59                                      \n",
       "2018-03-01         4.84  5.14  5.46                                             \n",
       "2018-04-01         4.66  5.19                                                   \n",
       "2018-05-01         4.66                                                         \n",
       "2018-06-01         3.42                                                         \n",
       "\n",
       "age                   9      10     11  \n",
       "first_order_month                       \n",
       "2017-06-01         11.05  11.62  11.88  \n",
       "2017-07-01          8.24    8.4         \n",
       "2017-08-01          8.47                \n",
       "2017-09-01                              \n",
       "2017-10-01                              \n",
       "2017-11-01                              \n",
       "2017-12-01                              \n",
       "2018-01-01                              \n",
       "2018-02-01                              \n",
       "2018-03-01                              \n",
       "2018-04-01                              \n",
       "2018-05-01                              \n",
       "2018-06-01                              "
      ]
     },
     "execution_count": 21,
     "metadata": {},
     "output_type": "execute_result"
    }
   ],
   "source": [
    "# Recuperar el mes de la compra de cada cliente\n",
    "orders['order_month'] = orders['buy_ts'].astype('datetime64[M]')\n",
    "\n",
    "# Recuperar el mes de los costos\n",
    "costs['month'] = costs['dt'].astype('datetime64[M]')\n",
    "\n",
    "# Recuperar el mes de la primera compra de cada cliente\n",
    "first_orders = orders.groupby('uid').agg({'order_month': 'min'}).reset_index()\n",
    "first_orders.columns = ['uid', 'first_order_month']\n",
    "\n",
    "# Calcular el número de nuevos clientes (n_buyers) para cada mes\n",
    "cohort_sizes = first_orders.groupby('first_order_month').agg({'uid': 'nunique'}).reset_index()\n",
    "cohort_sizes.columns = ['first_order_month', 'n_buyers']\n",
    "\n",
    "# Crear cohortes\n",
    "orders_ = pd.merge(orders, first_orders, on='uid')\n",
    "cohorts = orders_.groupby(['first_order_month', 'order_month']).agg({'revenue': 'sum'}).reset_index()\n",
    "\n",
    "# Añadir datos sobre cuántos usuarios realizaron sus primeras compras en cada mes a la tabla cohorts\n",
    "report = pd.merge(cohort_sizes, cohorts, on='first_order_month')\n",
    "\n",
    "# Calcular el beneficio bruto multiplicando los ingresos por la rentabilidad\n",
    "margin_rate = 1\n",
    "report['gp'] = report['revenue'] * margin_rate\n",
    "\n",
    "# Ajustar las columnas para mostrar la edad de la cohorte en lugar del mes del pedido\n",
    "report['age'] = (\n",
    "    report['order_month'] - report['first_order_month']\n",
    ") / np.timedelta64(1, 'M')\n",
    "report['age'] = report['age'].round().astype('int')\n",
    "\n",
    "# Dividir el beneficio bruto de la cohorte de cada mes por el número total de usuarios de cada cohorte\n",
    "report['ltv'] = report['gp'] / report['n_buyers']\n",
    "\n",
    "# Pivotar la tabla para mostrar el LTV para cada cohorte y cada mes\n",
    "output = report.pivot_table(\n",
    "    index='first_order_month', columns='age', values='ltv', aggfunc='sum'\n",
    ").round(2)\n",
    "\n",
    "output.cumsum(axis=1).round(2).fillna('') \n"
   ]
  },
  {
   "cell_type": "markdown",
   "metadata": {},
   "source": [
    "en esta tabla se puede destacar el dinero que traen el cuarto cohorte teniendo menos vida supera al primer cohorte en dinero"
   ]
  },
  {
   "cell_type": "markdown",
   "metadata": {},
   "source": [
    "<div class=\"alert alert-block alert-danger\">\n",
    "<b>Comentario del revisor</b> <a class=\"tocSkip\"></a>\n",
    "\n",
    "En general a través de la matriz de LTV tienes una buena iniciativa, aunque hay errores, los valores están fuertemente por debajo de lo esperado y esto es posiblemente a que estás usando el revenue del total de visitantes y no solamente de los compradores, por lo tanto aquellos que visitan pero no comprar son contados en este índice lo cuál no es preciso, es necesario revisar la lógica de negocio respecto a esto pues el age 0 está bien determinado pero la progresión no. Recuerda así revisar que tanto los compradores deben ser compradores solamente y el beneficio 'revenue' igualmente solamente debe ser de los compradores.\n",
    "</div>\n",
    "<div class=\"alert alert-block alert-info\">\n",
    "<b>Respuesta del estudiante.</b> <a class=\"tocSkip\"></a>\n",
    "    \n",
    "creo que no podria estar contando el total porque al principio solo se toma en orders['order_month'] a clientes que solo tienen una fecha en buy_ts si no la tendrian no tendrian order_month ademas creo que no .\n",
    "</div> "
   ]
  },
  {
   "cell_type": "markdown",
   "metadata": {},
   "source": [
    "<div class=\"alert alert-block alert-danger\">\n",
    "<b>Comentario del revisor</b> <a class=\"tocSkip\"></a>\n",
    "\n",
    "Tienes toda la razón!, el error se encuentra en un detalle mucho más insignificante, pero que como analistas de datos a veces nos suele pasar, en la tabla de pivoteo final, usaste mean en lugar de sum y no usaste una suma acumulativa (cumsum), tras finalizar el pivot_table, la suma acumulativa es necesariua pues el beneficio se acumula con el tiempo, no se cada mes, como función de agregación, por lo tanto no calculaste el lvt total por cohorte, si no la media del lvt de cohorte y edad. Recuerda realizar el cumsum a través de las filas (axis=1) y no las columnas (axis=0) pues es necesario ver como se acumula el lvt en su evolución, no acumularlo entre cohortes, en general muy bien, solo es este detalle final que es un poco más exigente.\n",
    "</div>"
   ]
  },
  {
   "cell_type": "markdown",
   "metadata": {},
   "source": [
    "<div class=\"alert alert-block alert-success\">\n",
    "<b>Comentario del revisor</b> <a class=\"tocSkip\"></a>\n",
    "\n",
    "Muy bien, seguiste las recomendaciones como se esperaba!\n",
    "</div>"
   ]
  },
  {
   "cell_type": "markdown",
   "metadata": {},
   "source": [
    "## Marketing"
   ]
  },
  {
   "cell_type": "markdown",
   "metadata": {},
   "source": [
    "### ¿Cuánto dinero se gastó? Total/por fuente/a lo largo del tiempo"
   ]
  },
  {
   "cell_type": "code",
   "execution_count": 22,
   "metadata": {},
   "outputs": [
    {
     "data": {
      "text/html": [
       "<div>\n",
       "<style scoped>\n",
       "    .dataframe tbody tr th:only-of-type {\n",
       "        vertical-align: middle;\n",
       "    }\n",
       "\n",
       "    .dataframe tbody tr th {\n",
       "        vertical-align: top;\n",
       "    }\n",
       "\n",
       "    .dataframe thead th {\n",
       "        text-align: right;\n",
       "    }\n",
       "</style>\n",
       "<table border=\"1\" class=\"dataframe\">\n",
       "  <thead>\n",
       "    <tr style=\"text-align: right;\">\n",
       "      <th>age</th>\n",
       "      <th>0</th>\n",
       "      <th>1</th>\n",
       "      <th>2</th>\n",
       "      <th>3</th>\n",
       "      <th>4</th>\n",
       "      <th>5</th>\n",
       "      <th>6</th>\n",
       "      <th>7</th>\n",
       "      <th>8</th>\n",
       "      <th>9</th>\n",
       "      <th>10</th>\n",
       "      <th>11</th>\n",
       "    </tr>\n",
       "    <tr>\n",
       "      <th>first_order_month</th>\n",
       "      <th></th>\n",
       "      <th></th>\n",
       "      <th></th>\n",
       "      <th></th>\n",
       "      <th></th>\n",
       "      <th></th>\n",
       "      <th></th>\n",
       "      <th></th>\n",
       "      <th></th>\n",
       "      <th></th>\n",
       "      <th></th>\n",
       "      <th></th>\n",
       "    </tr>\n",
       "  </thead>\n",
       "  <tbody>\n",
       "    <tr>\n",
       "      <th>2017-06-01</th>\n",
       "      <td>8.91</td>\n",
       "      <td>17.82</td>\n",
       "      <td>26.73</td>\n",
       "      <td>35.64</td>\n",
       "      <td>44.55</td>\n",
       "      <td>53.46</td>\n",
       "      <td>62.37</td>\n",
       "      <td>71.28</td>\n",
       "      <td>80.19</td>\n",
       "      <td>89.1</td>\n",
       "      <td>98.01</td>\n",
       "      <td>106.92</td>\n",
       "    </tr>\n",
       "    <tr>\n",
       "      <th>2017-07-01</th>\n",
       "      <td>9.49</td>\n",
       "      <td>18.98</td>\n",
       "      <td>28.47</td>\n",
       "      <td>37.96</td>\n",
       "      <td>47.45</td>\n",
       "      <td>56.94</td>\n",
       "      <td>66.43</td>\n",
       "      <td>75.92</td>\n",
       "      <td>85.41</td>\n",
       "      <td>94.9</td>\n",
       "      <td>104.39</td>\n",
       "      <td></td>\n",
       "    </tr>\n",
       "    <tr>\n",
       "      <th>2017-08-01</th>\n",
       "      <td>10.80</td>\n",
       "      <td>21.6</td>\n",
       "      <td>32.4</td>\n",
       "      <td>43.2</td>\n",
       "      <td>54.0</td>\n",
       "      <td>64.8</td>\n",
       "      <td>75.6</td>\n",
       "      <td>86.4</td>\n",
       "      <td>97.2</td>\n",
       "      <td>108.0</td>\n",
       "      <td></td>\n",
       "      <td></td>\n",
       "    </tr>\n",
       "    <tr>\n",
       "      <th>2017-09-01</th>\n",
       "      <td>9.44</td>\n",
       "      <td>18.88</td>\n",
       "      <td>28.32</td>\n",
       "      <td>37.76</td>\n",
       "      <td>47.2</td>\n",
       "      <td>56.64</td>\n",
       "      <td>66.08</td>\n",
       "      <td>75.52</td>\n",
       "      <td>84.96</td>\n",
       "      <td></td>\n",
       "      <td></td>\n",
       "      <td></td>\n",
       "    </tr>\n",
       "    <tr>\n",
       "      <th>2017-10-01</th>\n",
       "      <td>8.37</td>\n",
       "      <td>16.74</td>\n",
       "      <td>25.11</td>\n",
       "      <td>33.48</td>\n",
       "      <td>41.85</td>\n",
       "      <td>50.22</td>\n",
       "      <td>58.59</td>\n",
       "      <td>66.96</td>\n",
       "      <td></td>\n",
       "      <td></td>\n",
       "      <td></td>\n",
       "      <td></td>\n",
       "    </tr>\n",
       "    <tr>\n",
       "      <th>2017-11-01</th>\n",
       "      <td>9.29</td>\n",
       "      <td>18.58</td>\n",
       "      <td>27.87</td>\n",
       "      <td>37.16</td>\n",
       "      <td>46.45</td>\n",
       "      <td>55.74</td>\n",
       "      <td>65.03</td>\n",
       "      <td></td>\n",
       "      <td></td>\n",
       "      <td></td>\n",
       "      <td></td>\n",
       "      <td></td>\n",
       "    </tr>\n",
       "    <tr>\n",
       "      <th>2017-12-01</th>\n",
       "      <td>8.74</td>\n",
       "      <td>17.48</td>\n",
       "      <td>26.22</td>\n",
       "      <td>34.96</td>\n",
       "      <td>43.7</td>\n",
       "      <td>52.44</td>\n",
       "      <td></td>\n",
       "      <td></td>\n",
       "      <td></td>\n",
       "      <td></td>\n",
       "      <td></td>\n",
       "      <td></td>\n",
       "    </tr>\n",
       "    <tr>\n",
       "      <th>2018-01-01</th>\n",
       "      <td>9.94</td>\n",
       "      <td>19.88</td>\n",
       "      <td>29.82</td>\n",
       "      <td>39.76</td>\n",
       "      <td>49.7</td>\n",
       "      <td></td>\n",
       "      <td></td>\n",
       "      <td></td>\n",
       "      <td></td>\n",
       "      <td></td>\n",
       "      <td></td>\n",
       "      <td></td>\n",
       "    </tr>\n",
       "    <tr>\n",
       "      <th>2018-02-01</th>\n",
       "      <td>8.96</td>\n",
       "      <td>17.92</td>\n",
       "      <td>26.88</td>\n",
       "      <td>35.84</td>\n",
       "      <td></td>\n",
       "      <td></td>\n",
       "      <td></td>\n",
       "      <td></td>\n",
       "      <td></td>\n",
       "      <td></td>\n",
       "      <td></td>\n",
       "      <td></td>\n",
       "    </tr>\n",
       "    <tr>\n",
       "      <th>2018-03-01</th>\n",
       "      <td>8.61</td>\n",
       "      <td>17.22</td>\n",
       "      <td>25.83</td>\n",
       "      <td></td>\n",
       "      <td></td>\n",
       "      <td></td>\n",
       "      <td></td>\n",
       "      <td></td>\n",
       "      <td></td>\n",
       "      <td></td>\n",
       "      <td></td>\n",
       "      <td></td>\n",
       "    </tr>\n",
       "    <tr>\n",
       "      <th>2018-04-01</th>\n",
       "      <td>9.79</td>\n",
       "      <td>19.58</td>\n",
       "      <td></td>\n",
       "      <td></td>\n",
       "      <td></td>\n",
       "      <td></td>\n",
       "      <td></td>\n",
       "      <td></td>\n",
       "      <td></td>\n",
       "      <td></td>\n",
       "      <td></td>\n",
       "      <td></td>\n",
       "    </tr>\n",
       "    <tr>\n",
       "      <th>2018-05-01</th>\n",
       "      <td>7.44</td>\n",
       "      <td></td>\n",
       "      <td></td>\n",
       "      <td></td>\n",
       "      <td></td>\n",
       "      <td></td>\n",
       "      <td></td>\n",
       "      <td></td>\n",
       "      <td></td>\n",
       "      <td></td>\n",
       "      <td></td>\n",
       "      <td></td>\n",
       "    </tr>\n",
       "  </tbody>\n",
       "</table>\n",
       "</div>"
      ],
      "text/plain": [
       "age                   0      1      2      3      4      5      6      7   \\\n",
       "first_order_month                                                           \n",
       "2017-06-01          8.91  17.82  26.73  35.64  44.55  53.46  62.37  71.28   \n",
       "2017-07-01          9.49  18.98  28.47  37.96  47.45  56.94  66.43  75.92   \n",
       "2017-08-01         10.80   21.6   32.4   43.2   54.0   64.8   75.6   86.4   \n",
       "2017-09-01          9.44  18.88  28.32  37.76   47.2  56.64  66.08  75.52   \n",
       "2017-10-01          8.37  16.74  25.11  33.48  41.85  50.22  58.59  66.96   \n",
       "2017-11-01          9.29  18.58  27.87  37.16  46.45  55.74  65.03          \n",
       "2017-12-01          8.74  17.48  26.22  34.96   43.7  52.44                 \n",
       "2018-01-01          9.94  19.88  29.82  39.76   49.7                        \n",
       "2018-02-01          8.96  17.92  26.88  35.84                               \n",
       "2018-03-01          8.61  17.22  25.83                                      \n",
       "2018-04-01          9.79  19.58                                             \n",
       "2018-05-01          7.44                                                    \n",
       "\n",
       "age                   8      9       10      11  \n",
       "first_order_month                                \n",
       "2017-06-01         80.19   89.1   98.01  106.92  \n",
       "2017-07-01         85.41   94.9  104.39          \n",
       "2017-08-01          97.2  108.0                  \n",
       "2017-09-01         84.96                         \n",
       "2017-10-01                                       \n",
       "2017-11-01                                       \n",
       "2017-12-01                                       \n",
       "2018-01-01                                       \n",
       "2018-02-01                                       \n",
       "2018-03-01                                       \n",
       "2018-04-01                                       \n",
       "2018-05-01                                       "
      ]
     },
     "execution_count": 22,
     "metadata": {},
     "output_type": "execute_result"
    }
   ],
   "source": [
    "# Recuperar el mes de los costos\n",
    "costs['month'] = costs['dt'].astype('datetime64[M]')\n",
    "\n",
    "# Agrupar los costos por mes y fuente de anuncios\n",
    "monthly_costs = costs.groupby('month').agg({'costs': 'sum'}).reset_index()\n",
    "\n",
    "report_ = pd.merge(report, monthly_costs, left_on='first_order_month', right_on='month')\n",
    "report_['cac'] = report_['costs'] / report_['n_buyers']\n",
    "\n",
    "output = report_.pivot_table(\n",
    "    index='first_order_month', columns='age', values='cac', aggfunc='sum'\n",
    ").round(2)\n",
    "\n",
    "output.cumsum(axis=1).round(2).fillna('') \n"
   ]
  },
  {
   "cell_type": "markdown",
   "metadata": {},
   "source": [
    "en total se gasto 329131 a lo largo del tiempo"
   ]
  },
  {
   "cell_type": "markdown",
   "metadata": {},
   "source": [
    "<div class=\"alert alert-block alert-danger\">\n",
    "<b>Comentario del revisor</b> <a class=\"tocSkip\"></a>\n",
    "\n",
    "Bien los costos totales, aunque es necesario un análisis gráfico de depronto a través de los meses, los costos totales a través de los meses con una pivot table.\n",
    "</div>"
   ]
  },
  {
   "cell_type": "markdown",
   "metadata": {},
   "source": [
    "<div class=\"alert alert-block alert-success\">\n",
    "<b>Comentario del revisor</b> <a class=\"tocSkip\"></a>\n",
    "\n",
    "Muy bien llegaste a la respuesta correcta y con la tabla de pivoteo final.\n",
    "</div>"
   ]
  },
  {
   "cell_type": "markdown",
   "metadata": {},
   "source": [
    "### ¿Cuánto costó la adquisición de clientes de cada una de las fuentes?"
   ]
  },
  {
   "cell_type": "code",
   "execution_count": 54,
   "metadata": {},
   "outputs": [
    {
     "data": {
      "image/png": "[encoded data removed]",
      "text/plain": [
       "<Figure size 864x432 with 1 Axes>"
      ]
     },
     "metadata": {},
     "output_type": "display_data"
    },
    {
     "data": {
      "image/png": "[encoded data removed]",
      "text/plain": [
       "<Figure size 720x432 with 1 Axes>"
      ]
     },
     "metadata": {},
     "output_type": "display_data"
    }
   ],
   "source": [
    "# Calcular los costos mensuales por fuente\n",
    "monthly_source_cost = costs.groupby(['source_id', 'month']).sum().reset_index()\n",
    "\n",
    "# Graficar la evolución de los costos a lo largo del tiempo para cada fuente\n",
    "plt.figure(figsize=(12, 6))\n",
    "for source_id, group in monthly_source_cost.groupby('source_id'):\n",
    "    plt.plot(group['month'], group['costs'], label=f'Source {source_id}')\n",
    "\n",
    "plt.xlabel('Mes')\n",
    "plt.ylabel('Costo Mensual')\n",
    "plt.title('Evolución de Costos por Fuente de Anuncios')\n",
    "plt.legend()\n",
    "plt.show()\n",
    "\n",
    "# unir visits y orders\n",
    "visits_orders1= pd.merge(visits, orders, on='uid', how='left')\n",
    "visits_orders1['buy_ts']=visits_orders1['buy_ts'].dt.date\n",
    "costs['dt']=pd.to_datetime(costs['dt']).dt.date\n",
    "# Identificar los compradores para cada día\n",
    "buyers_per_day = visits_orders1.groupby(['buy_ts', 'source_id'])['uid'].nunique().reset_index()\n",
    "buyers_per_day.columns = ['dt', 'source_id','uid']\n",
    "\n",
    "# Hacer merge entre los compradores y los costos\n",
    "merged_data = pd.merge(buyers_per_day, costs, on=('dt','source_id'))\n",
    "\n",
    "# Calcular el CAC por fuente\n",
    "cac_by_source = merged_data.groupby('source_id')['costs'].sum() / merged_data.groupby('source_id')['uid'].nunique()\n",
    "\n",
    "plt.figure(figsize=(10, 6))\n",
    "cac_by_source.plot(kind='bar', color='blue')\n",
    "plt.xlabel('Fuente de Anuncios (Source ID)')\n",
    "plt.ylabel('Costo de Adquisición por Cliente (CAC)')\n",
    "plt.title('Comparación de CAC por Fuente de Anuncios')\n",
    "plt.show()"
   ]
  },
  {
   "cell_type": "markdown",
   "metadata": {},
   "source": [
    "las fuentes de anuncio mas caras fueron la 3 y despues la 4 y 5 con una diferencia significativa y adicionalmente se obtuvo que la fuete mas costos es la 2"
   ]
  },
  {
   "cell_type": "markdown",
   "metadata": {},
   "source": [
    "<div class=\"alert alert-block alert-danger\">\n",
    "<b>Comentario del revisor</b> <a class=\"tocSkip\"></a>\n",
    "\n",
    "Está bien calculado la parte inicial y además hay análisis gráfico, aunque sugiero usar un gráfico que adicionalmente de evidenciar los costos totales por fuente, también muestre la evolución de esos costos a través del tiempo para cada fuente, posteriormente es importante hacer el análisis de costo de adquisición de clientes para cada fuente y no solo los costos totales de cada fuente.\n",
    "</div>\n",
    "\n"
   ]
  },
  {
   "cell_type": "markdown",
   "metadata": {},
   "source": [
    "<div class=\"alert alert-block alert-danger\">\n",
    "<b>Comentario del revisor</b> <a class=\"tocSkip\"></a>\n",
    "\n",
    "Hiciste muy bien la gráfica comparativa, es necesario detallar mejor y corregir el costo de adquisición por cliente, es decir, examinar como por cada fuente, para cada día (es decir no usar report porque esto está diseñado por cohorte y no por cliente), identificar los compradores, de allí la primera compra del día, después hacer el merge entre el source id y la primera compra del día con costos y así finalmente calcular el costo de adquisición para cada día por fuente y hacer un plot donde se compare este cac. Es muy similar a lo que hiciste, solo que no usar el report que usaste para el mes porque no estarías calculando el costo de adquisición por cliente, si no su contribución a el costo de cada cohorte.\n",
    "</div>"
   ]
  },
  {
   "cell_type": "markdown",
   "metadata": {},
   "source": [
    "<div class=\"alert alert-block alert-warning\">\n",
    "<b>Comentario del revisor</b> <a class=\"tocSkip\"></a>\n",
    "\n",
    "Se esperaba el costo mes a mes a forma de tabla de pivoteo, pero traer el CAC total es igual una forma de verlo, no es tan informativo y puede traer problemas pero igualmente se logra parcialmente el objetivo del problema.\n",
    "</div>"
   ]
  },
  {
   "cell_type": "markdown",
   "metadata": {},
   "source": [
    "### ¿Cuán rentables eran las inversiones? (ROI)\n"
   ]
  },
  {
   "cell_type": "code",
   "execution_count": 84,
   "metadata": {},
   "outputs": [
    {
     "name": "stdout",
     "output_type": "stream",
     "text": [
      "                         uid   device  source_id  revenue          dt  costs  \\\n",
      "6700     8056418121947262981  desktop          1     3.67  2017-06-25  22.03   \n",
      "6701     8056418121947262981  desktop          1     3.67  2017-06-25  22.03   \n",
      "6702     8056418121947262981  desktop          1     3.67  2017-06-25  22.03   \n",
      "6703     8056418121947262981  desktop          1     3.67  2017-06-25  22.03   \n",
      "6704     8056418121947262981  desktop          1     3.67  2017-06-25  22.03   \n",
      "...                      ...      ...        ...      ...         ...    ...   \n",
      "761312  10502179066785155573  desktop          1     2.44  2017-08-19  23.20   \n",
      "761313  10502179066785155573  desktop          1     2.44  2017-08-19  23.20   \n",
      "761314   3854241582087196702  desktop          1     1.22  2017-08-19  23.20   \n",
      "761315  13720606031444752695    touch          1     1.47  2017-08-19  23.20   \n",
      "761316   3977111777530213566  desktop          1     3.67  2017-08-19  23.20   \n",
      "\n",
      "       order_month      month  \n",
      "6700    2017-06-01 2017-06-01  \n",
      "6701    2017-06-01 2017-06-01  \n",
      "6702    2017-06-01 2017-06-01  \n",
      "6703    2017-06-01 2017-06-01  \n",
      "6704    2017-06-01 2017-06-01  \n",
      "...            ...        ...  \n",
      "761312  2017-08-01 2017-08-01  \n",
      "761313  2017-08-01 2017-08-01  \n",
      "761314  2017-08-01 2017-08-01  \n",
      "761315  2017-08-01 2017-08-01  \n",
      "761316  2017-08-01 2017-08-01  \n",
      "\n",
      "[248662 rows x 8 columns]\n"
     ]
    }
   ],
   "source": [
    "#hACER DF para calcular el ltv\n",
    "visits1=visits[['uid','device','source_id']]\n",
    "\n",
    "visits_orders1=pd.merge(visits1,orders,on=('uid'))\n",
    "visits_orders1['dt']=visits_orders1['buy_ts'].dt.date\n",
    "ultimate=pd.merge(visits_orders1,costs,on=('dt','source_id'))\n",
    "ultimate=ultimate[['uid','device','source_id','revenue','dt','costs','order_month','month']]\n",
    "\n"
   ]
  },
  {
   "cell_type": "code",
   "execution_count": 108,
   "metadata": {},
   "outputs": [
    {
     "data": {
      "text/plain": [
       "age\n",
       "0     0.170867\n",
       "1     0.391474\n",
       "2     0.528062\n",
       "3     0.672564\n",
       "4     0.865371\n",
       "5     1.014917\n",
       "6     1.291615\n",
       "7     1.565536\n",
       "8     1.967839\n",
       "9     2.027650\n",
       "10    2.464446\n",
       "11    1.774319\n",
       "dtype: float64"
      ]
     },
     "execution_count": 108,
     "metadata": {},
     "output_type": "execute_result"
    }
   ],
   "source": [
    "\n",
    "#calcular ltv para fuente de anuncio 1\n",
    "source_1=ultimate[ultimate['source_id']==1]\n",
    "# Recuperar el mes de la primera compra de cada cliente\n",
    "first_ordersa = source_1.groupby('uid').agg({'order_month': 'min'}).reset_index()\n",
    "first_ordersa.columns = ['uid', 'first_order_month']\n",
    "\n",
    "# Calcular el número de nuevos clientes (n_buyers) para cada mes\n",
    "cohort_sizes = first_orders.groupby('first_order_month').agg({'uid': 'nunique'}).reset_index()\n",
    "cohort_sizes.columns = ['first_order_month', 'n_buyers']\n",
    "\n",
    "# Crear cohortes\n",
    "orders_ = pd.merge(source_1, first_orders, on='uid')\n",
    "cohorts = orders_.groupby(['first_order_month', 'order_month']).agg({'revenue': 'sum','costs':'sum'}).reset_index()\n",
    "\n",
    "# Añadir datos sobre cuántos usuarios realizaron sus primeras compras en cada mes a la tabla cohorts\n",
    "reporta = pd.merge(cohort_sizes, cohorts, on='first_order_month')\n",
    "\n",
    "# Calcular el beneficio bruto multiplicando los ingresos por la rentabilidad\n",
    "margin_rate = 1\n",
    "reporta['gp'] = reporta['revenue'] * margin_rate\n",
    "\n",
    "# Ajustar las columnas para mostrar la edad de la cohorte en lugar del mes del pedido\n",
    "reporta['age'] = (\n",
    "    reporta['order_month'] - reporta['first_order_month']\n",
    ") / np.timedelta64(1, 'M')\n",
    "reporta['age'] = reporta['age'].round().astype('int')\n",
    "# Dividir el beneficio bruto de la cohorte de cada mes por el número total de usuarios de cada cohorte\n",
    "reporta['ltv'] = reporta['gp'] / reporta['n_buyers']\n",
    "reporta['cac'] = reporta['costs'] / reporta['n_buyers']\n",
    "reporta['romi'] = reporta['ltv'] / reporta['cac']\n",
    "output = reporta.pivot_table(\n",
    "    index='first_order_month', columns='age', values='romi', aggfunc='mean'\n",
    ")\n",
    "\n",
    "output.cumsum(axis=1).round(2).fillna('') \n",
    "output.cumsum(axis=1).mean(axis=0) \n",
    "#recupera la inversion al mes 5 de vida y crece hasta 1.7"
   ]
  },
  {
   "cell_type": "code",
   "execution_count": 109,
   "metadata": {},
   "outputs": [
    {
     "data": {
      "text/plain": [
       "age\n",
       "0     0.076874\n",
       "1     0.162254\n",
       "2     0.226053\n",
       "3     0.372417\n",
       "4     0.474827\n",
       "5     0.575277\n",
       "6     0.711330\n",
       "7     0.907657\n",
       "8     1.109287\n",
       "9     0.734861\n",
       "10    0.836180\n",
       "11    0.856118\n",
       "dtype: float64"
      ]
     },
     "execution_count": 109,
     "metadata": {},
     "output_type": "execute_result"
    }
   ],
   "source": [
    "#calcular ltv para fuente de anuncio 2\n",
    "source_2=ultimate[ultimate['source_id']==2]\n",
    "# Recuperar el mes de la primera compra de cada cliente\n",
    "first_ordersa = source_2.groupby('uid').agg({'order_month': 'min'}).reset_index()\n",
    "first_ordersa.columns = ['uid', 'first_order_month']\n",
    "\n",
    "# Calcular el número de nuevos clientes (n_buyers) para cada mes\n",
    "cohort_sizes = first_orders.groupby('first_order_month').agg({'uid': 'nunique'}).reset_index()\n",
    "cohort_sizes.columns = ['first_order_month', 'n_buyers']\n",
    "\n",
    "# Crear cohortes\n",
    "orders_ = pd.merge(source_2, first_orders, on='uid')\n",
    "cohorts = orders_.groupby(['first_order_month', 'order_month']).agg({'revenue': 'sum','costs':'sum'}).reset_index()\n",
    "\n",
    "# Añadir datos sobre cuántos usuarios realizaron sus primeras compras en cada mes a la tabla cohorts\n",
    "reporta = pd.merge(cohort_sizes, cohorts, on='first_order_month')\n",
    "\n",
    "# Calcular el beneficio bruto multiplicando los ingresos por la rentabilidad\n",
    "margin_rate = 1\n",
    "reporta['gp'] = reporta['revenue'] * margin_rate\n",
    "\n",
    "# Ajustar las columnas para mostrar la edad de la cohorte en lugar del mes del pedido\n",
    "reporta['age'] = (\n",
    "    reporta['order_month'] - reporta['first_order_month']\n",
    ") / np.timedelta64(1, 'M')\n",
    "reporta['age'] = reporta['age'].round().astype('int')\n",
    "# Dividir el beneficio bruto de la cohorte de cada mes por el número total de usuarios de cada cohorte\n",
    "reporta['ltv'] = reporta['gp'] / reporta['n_buyers']\n",
    "reporta['cac'] = reporta['costs'] / reporta['n_buyers']\n",
    "reporta['romi'] = reporta['ltv'] / reporta['cac']\n",
    "output = reporta.pivot_table(\n",
    "    index='first_order_month', columns='age', values='romi', aggfunc='mean'\n",
    ")\n",
    "\n",
    "output.cumsum(axis=1).round(2).fillna('') \n",
    "output.cumsum(axis=1).mean(axis=0) \n"
   ]
  },
  {
   "cell_type": "code",
   "execution_count": 110,
   "metadata": {},
   "outputs": [
    {
     "data": {
      "text/plain": [
       "age\n",
       "0     0.017494\n",
       "1     0.036838\n",
       "2     0.052835\n",
       "3     0.089287\n",
       "4     0.118491\n",
       "5     0.145295\n",
       "6     0.180395\n",
       "7     0.208431\n",
       "8     0.262709\n",
       "9     0.187247\n",
       "10    0.217866\n",
       "11    0.198976\n",
       "dtype: float64"
      ]
     },
     "execution_count": 110,
     "metadata": {},
     "output_type": "execute_result"
    }
   ],
   "source": [
    "#calcular ltv para fuente de anuncio 3\n",
    "source_3=ultimate[ultimate['source_id']==3]\n",
    "# Recuperar el mes de la primera compra de cada cliente\n",
    "first_ordersa = source_3.groupby('uid').agg({'order_month': 'min'}).reset_index()\n",
    "first_ordersa.columns = ['uid', 'first_order_month']\n",
    "\n",
    "# Calcular el número de nuevos clientes (n_buyers) para cada mes\n",
    "cohort_sizes = first_orders.groupby('first_order_month').agg({'uid': 'nunique'}).reset_index()\n",
    "cohort_sizes.columns = ['first_order_month', 'n_buyers']\n",
    "\n",
    "# Crear cohortes\n",
    "orders_ = pd.merge(source_3, first_orders, on='uid')\n",
    "cohorts = orders_.groupby(['first_order_month', 'order_month']).agg({'revenue': 'sum','costs':'sum'}).reset_index()\n",
    "\n",
    "# Añadir datos sobre cuántos usuarios realizaron sus primeras compras en cada mes a la tabla cohorts\n",
    "reporta = pd.merge(cohort_sizes, cohorts, on='first_order_month')\n",
    "\n",
    "# Calcular el beneficio bruto multiplicando los ingresos por la rentabilidad\n",
    "margin_rate = 1\n",
    "reporta['gp'] = reporta['revenue'] * margin_rate\n",
    "\n",
    "# Ajustar las columnas para mostrar la edad de la cohorte en lugar del mes del pedido\n",
    "reporta['age'] = (\n",
    "    reporta['order_month'] - reporta['first_order_month']\n",
    ") / np.timedelta64(1, 'M')\n",
    "reporta['age'] = reporta['age'].round().astype('int')\n",
    "# Dividir el beneficio bruto de la cohorte de cada mes por el número total de usuarios de cada cohorte\n",
    "reporta['ltv'] = reporta['gp'] / reporta['n_buyers']\n",
    "reporta['cac'] = reporta['costs'] / reporta['n_buyers']\n",
    "reporta['romi'] = reporta['ltv'] / reporta['cac']\n",
    "output = reporta.pivot_table(\n",
    "    index='first_order_month', columns='age', values='romi', aggfunc='mean'\n",
    ")\n",
    "\n",
    "output.cumsum(axis=1).round(2).fillna('') \n",
    "output.cumsum(axis=1).mean(axis=0) "
   ]
  },
  {
   "cell_type": "code",
   "execution_count": 112,
   "metadata": {},
   "outputs": [
    {
     "data": {
      "text/plain": [
       "age\n",
       "0     0.047185\n",
       "1     0.106324\n",
       "2     0.146554\n",
       "3     0.217733\n",
       "4     0.299801\n",
       "5     0.367903\n",
       "6     0.474104\n",
       "7     0.538627\n",
       "8     0.668721\n",
       "9     0.618042\n",
       "10    0.705933\n",
       "11    0.560621\n",
       "dtype: float64"
      ]
     },
     "execution_count": 112,
     "metadata": {},
     "output_type": "execute_result"
    }
   ],
   "source": [
    "#calcular ltv para fuente de anuncio 4\n",
    "source_4=ultimate[ultimate['source_id']==4]\n",
    "# Recuperar el mes de la primera compra de cada cliente\n",
    "first_ordersa = source_4.groupby('uid').agg({'order_month': 'min'}).reset_index()\n",
    "first_ordersa.columns = ['uid', 'first_order_month']\n",
    "\n",
    "# Calcular el número de nuevos clientes (n_buyers) para cada mes\n",
    "cohort_sizes = first_orders.groupby('first_order_month').agg({'uid': 'nunique'}).reset_index()\n",
    "cohort_sizes.columns = ['first_order_month', 'n_buyers']\n",
    "\n",
    "# Crear cohortes\n",
    "orders_ = pd.merge(source_4, first_orders, on='uid')\n",
    "cohorts = orders_.groupby(['first_order_month', 'order_month']).agg({'revenue': 'sum','costs':'sum'}).reset_index()\n",
    "\n",
    "# Añadir datos sobre cuántos usuarios realizaron sus primeras compras en cada mes a la tabla cohorts\n",
    "reporta = pd.merge(cohort_sizes, cohorts, on='first_order_month')\n",
    "\n",
    "# Calcular el beneficio bruto multiplicando los ingresos por la rentabilidad\n",
    "margin_rate = 1\n",
    "reporta['gp'] = reporta['revenue'] * margin_rate\n",
    "\n",
    "# Ajustar las columnas para mostrar la edad de la cohorte en lugar del mes del pedido\n",
    "reporta['age'] = (\n",
    "    reporta['order_month'] - reporta['first_order_month']\n",
    ") / np.timedelta64(1, 'M')\n",
    "reporta['age'] = reporta['age'].round().astype('int')\n",
    "# Dividir el beneficio bruto de la cohorte de cada mes por el número total de usuarios de cada cohorte\n",
    "reporta['ltv'] = reporta['gp'] / reporta['n_buyers']\n",
    "reporta['cac'] = reporta['costs'] / reporta['n_buyers']\n",
    "reporta['romi'] = reporta['ltv'] / reporta['cac']\n",
    "output = reporta.pivot_table(\n",
    "    index='first_order_month', columns='age', values='romi', aggfunc='mean'\n",
    ")\n",
    "\n",
    "output.cumsum(axis=1).round(2).fillna('') \n",
    "output.cumsum(axis=1).mean(axis=0) "
   ]
  },
  {
   "cell_type": "code",
   "execution_count": 113,
   "metadata": {},
   "outputs": [
    {
     "data": {
      "text/plain": [
       "age\n",
       "0     0.055361\n",
       "1     0.123532\n",
       "2     0.197712\n",
       "3     0.362385\n",
       "4     0.479077\n",
       "5     0.583635\n",
       "6     0.714228\n",
       "7     0.874597\n",
       "8     1.072650\n",
       "9     0.759345\n",
       "10    0.951284\n",
       "11    0.511590\n",
       "dtype: float64"
      ]
     },
     "execution_count": 113,
     "metadata": {},
     "output_type": "execute_result"
    }
   ],
   "source": [
    "#calcular ltv para fuente de anuncio 5\n",
    "source_5=ultimate[ultimate['source_id']==5]\n",
    "# Recuperar el mes de la primera compra de cada cliente\n",
    "first_ordersa = source_5.groupby('uid').agg({'order_month': 'min'}).reset_index()\n",
    "first_ordersa.columns = ['uid', 'first_order_month']\n",
    "\n",
    "# Calcular el número de nuevos clientes (n_buyers) para cada mes\n",
    "cohort_sizes = first_orders.groupby('first_order_month').agg({'uid': 'nunique'}).reset_index()\n",
    "cohort_sizes.columns = ['first_order_month', 'n_buyers']\n",
    "\n",
    "# Crear cohortes\n",
    "orders_ = pd.merge(source_5, first_orders, on='uid')\n",
    "cohorts = orders_.groupby(['first_order_month', 'order_month']).agg({'revenue': 'sum','costs':'sum'}).reset_index()\n",
    "\n",
    "# Añadir datos sobre cuántos usuarios realizaron sus primeras compras en cada mes a la tabla cohorts\n",
    "reporta = pd.merge(cohort_sizes, cohorts, on='first_order_month')\n",
    "\n",
    "# Calcular el beneficio bruto multiplicando los ingresos por la rentabilidad\n",
    "margin_rate = 1\n",
    "reporta['gp'] = reporta['revenue'] * margin_rate\n",
    "\n",
    "# Ajustar las columnas para mostrar la edad de la cohorte en lugar del mes del pedido\n",
    "reporta['age'] = (\n",
    "    reporta['order_month'] - reporta['first_order_month']\n",
    ") / np.timedelta64(1, 'M')\n",
    "reporta['age'] = reporta['age'].round().astype('int')\n",
    "# Dividir el beneficio bruto de la cohorte de cada mes por el número total de usuarios de cada cohorte\n",
    "reporta['ltv'] = reporta['gp'] / reporta['n_buyers']\n",
    "reporta['cac'] = reporta['costs'] / reporta['n_buyers']\n",
    "reporta['romi'] = reporta['ltv'] / reporta['cac']\n",
    "output = reporta.pivot_table(\n",
    "    index='first_order_month', columns='age', values='romi', aggfunc='mean'\n",
    ")\n",
    "\n",
    "output.cumsum(axis=1).round(2).fillna('') \n",
    "output.cumsum(axis=1).mean(axis=0) \n"
   ]
  },
  {
   "cell_type": "code",
   "execution_count": 114,
   "metadata": {},
   "outputs": [
    {
     "data": {
      "text/plain": [
       "age\n",
       "0     0.275956\n",
       "1     0.678985\n",
       "2     0.934051\n",
       "3     1.195440\n",
       "4     1.396989\n",
       "5     1.693251\n",
       "6     2.106482\n",
       "7     2.351101\n",
       "8     3.011135\n",
       "9     4.770347\n",
       "10    5.214604\n",
       "11    6.350428\n",
       "dtype: float64"
      ]
     },
     "execution_count": 114,
     "metadata": {},
     "output_type": "execute_result"
    }
   ],
   "source": [
    "#calcular ltv para fuente de anuncio 9\n",
    "source_9=ultimate[ultimate['source_id']==9]\n",
    "# Recuperar el mes de la primera compra de cada cliente\n",
    "first_ordersa = source_9.groupby('uid').agg({'order_month': 'min'}).reset_index()\n",
    "first_ordersa.columns = ['uid', 'first_order_month']\n",
    "\n",
    "# Calcular el número de nuevos clientes (n_buyers) para cada mes\n",
    "cohort_sizes = first_orders.groupby('first_order_month').agg({'uid': 'nunique'}).reset_index()\n",
    "cohort_sizes.columns = ['first_order_month', 'n_buyers']\n",
    "\n",
    "# Crear cohortes\n",
    "orders_ = pd.merge(source_9, first_orders, on='uid')\n",
    "cohorts = orders_.groupby(['first_order_month', 'order_month']).agg({'revenue': 'sum','costs':'sum'}).reset_index()\n",
    "\n",
    "# Añadir datos sobre cuántos usuarios realizaron sus primeras compras en cada mes a la tabla cohorts\n",
    "reporta = pd.merge(cohort_sizes, cohorts, on='first_order_month')\n",
    "\n",
    "# Calcular el beneficio bruto multiplicando los ingresos por la rentabilidad\n",
    "margin_rate = 1\n",
    "reporta['gp'] = reporta['revenue'] * margin_rate\n",
    "\n",
    "# Ajustar las columnas para mostrar la edad de la cohorte en lugar del mes del pedido\n",
    "reporta['age'] = (\n",
    "    reporta['order_month'] - reporta['first_order_month']\n",
    ") / np.timedelta64(1, 'M')\n",
    "reporta['age'] = reporta['age'].round().astype('int')\n",
    "# Dividir el beneficio bruto de la cohorte de cada mes por el número total de usuarios de cada cohorte\n",
    "reporta['ltv'] = reporta['gp'] / reporta['n_buyers']\n",
    "reporta['cac'] = reporta['costs'] / reporta['n_buyers']\n",
    "reporta['romi'] = reporta['ltv'] / reporta['cac']\n",
    "output = reporta.pivot_table(\n",
    "    index='first_order_month', columns='age', values='romi', aggfunc='mean'\n",
    ")\n",
    "\n",
    "output.cumsum(axis=1).round(2).fillna('') \n",
    "output.cumsum(axis=1).mean(axis=0) \n",
    "#recupera la inversion al mes 3 de vida y crece en 6.3"
   ]
  },
  {
   "cell_type": "code",
   "execution_count": 115,
   "metadata": {},
   "outputs": [
    {
     "data": {
      "text/plain": [
       "age\n",
       "0     0.285688\n",
       "1     0.661594\n",
       "2     0.911099\n",
       "3     1.396196\n",
       "4     1.709553\n",
       "5     1.606883\n",
       "6     2.610284\n",
       "7     2.598573\n",
       "8     3.446031\n",
       "9     3.860756\n",
       "10    4.790983\n",
       "11    8.905953\n",
       "dtype: float64"
      ]
     },
     "execution_count": 115,
     "metadata": {},
     "output_type": "execute_result"
    }
   ],
   "source": [
    "#calcular ltv para fuente de anuncio 10\n",
    "source_10=ultimate[ultimate['source_id']==10]\n",
    "# Recuperar el mes de la primera compra de cada cliente\n",
    "first_ordersa = source_10.groupby('uid').agg({'order_month': 'min'}).reset_index()\n",
    "first_ordersa.columns = ['uid', 'first_order_month']\n",
    "\n",
    "# Calcular el número de nuevos clientes (n_buyers) para cada mes\n",
    "cohort_sizes = first_orders.groupby('first_order_month').agg({'uid': 'nunique'}).reset_index()\n",
    "cohort_sizes.columns = ['first_order_month', 'n_buyers']\n",
    "\n",
    "# Crear cohortes\n",
    "orders_ = pd.merge(source_10, first_orders, on='uid')\n",
    "cohorts = orders_.groupby(['first_order_month', 'order_month']).agg({'revenue': 'sum','costs':'sum'}).reset_index()\n",
    "\n",
    "# Añadir datos sobre cuántos usuarios realizaron sus primeras compras en cada mes a la tabla cohorts\n",
    "reporta = pd.merge(cohort_sizes, cohorts, on='first_order_month')\n",
    "\n",
    "# Calcular el beneficio bruto multiplicando los ingresos por la rentabilidad\n",
    "margin_rate = 1\n",
    "reporta['gp'] = reporta['revenue'] * margin_rate\n",
    "\n",
    "# Ajustar las columnas para mostrar la edad de la cohorte en lugar del mes del pedido\n",
    "reporta['age'] = (\n",
    "    reporta['order_month'] - reporta['first_order_month']\n",
    ") / np.timedelta64(1, 'M')\n",
    "reporta['age'] = reporta['age'].round().astype('int')\n",
    "# Dividir el beneficio bruto de la cohorte de cada mes por el número total de usuarios de cada cohorte\n",
    "reporta['ltv'] = reporta['gp'] / reporta['n_buyers']\n",
    "reporta['cac'] = reporta['costs'] / reporta['n_buyers']\n",
    "reporta['romi'] = reporta['ltv'] / reporta['cac']\n",
    "output = reporta.pivot_table(\n",
    "    index='first_order_month', columns='age', values='romi', aggfunc='mean'\n",
    ")\n",
    "\n",
    "output.cumsum(axis=1).round(2).fillna('') \n",
    "output.cumsum(axis=1).mean(axis=0) \n",
    "#recupera la inversion al mes 4 de vida y crece en 8.9"
   ]
  },
  {
   "cell_type": "code",
   "execution_count": 116,
   "metadata": {
    "scrolled": true
   },
   "outputs": [
    {
     "data": {
      "text/plain": [
       "age\n",
       "0     0.075879\n",
       "1     0.231462\n",
       "2     0.302871\n",
       "3     0.256704\n",
       "4     0.350493\n",
       "5     0.419469\n",
       "6     0.547816\n",
       "7     0.640171\n",
       "8     0.875465\n",
       "9     0.823155\n",
       "10    0.868564\n",
       "11    1.141387\n",
       "dtype: float64"
      ]
     },
     "execution_count": 116,
     "metadata": {},
     "output_type": "execute_result"
    }
   ],
   "source": [
    "#hallar roi por device\n",
    "\n",
    "#agrupar device por touch\n",
    "#hallar device por touch\n",
    "d_t=ultimate[ultimate['device']=='touch']\n",
    "# Recuperar el mes de la primera compra de cada cliente\n",
    "first_ordersa = d_t.groupby('uid').agg({'order_month': 'min'}).reset_index()\n",
    "first_ordersa.columns = ['uid', 'first_order_month']\n",
    "\n",
    "# Calcular el número de nuevos clientes (n_buyers) para cada mes\n",
    "cohort_sizes = first_orders.groupby('first_order_month').agg({'uid': 'nunique'}).reset_index()\n",
    "cohort_sizes.columns = ['first_order_month', 'n_buyers']\n",
    "\n",
    "# Crear cohortes\n",
    "orders_ = pd.merge(d_t, first_orders, on='uid')\n",
    "cohorts = orders_.groupby(['first_order_month', 'order_month']).agg({'revenue': 'sum','costs':'sum'}).reset_index()\n",
    "\n",
    "# Añadir datos sobre cuántos usuarios realizaron sus primeras compras en cada mes a la tabla cohorts\n",
    "reporta = pd.merge(cohort_sizes, cohorts, on='first_order_month')\n",
    "\n",
    "# Calcular el beneficio bruto multiplicando los ingresos por la rentabilidad\n",
    "margin_rate = 1\n",
    "reporta['gp'] = reporta['revenue'] * margin_rate\n",
    "\n",
    "# Ajustar las columnas para mostrar la edad de la cohorte en lugar del mes del pedido\n",
    "reporta['age'] = (\n",
    "    reporta['order_month'] - reporta['first_order_month']\n",
    ") / np.timedelta64(1, 'M')\n",
    "reporta['age'] = reporta['age'].round().astype('int')\n",
    "# Dividir el beneficio bruto de la cohorte de cada mes por el número total de usuarios de cada cohorte\n",
    "reporta['ltv'] = reporta['gp'] / reporta['n_buyers']\n",
    "reporta['cac'] = reporta['costs'] / reporta['n_buyers']\n",
    "reporta['romi'] = reporta['ltv'] / reporta['cac']\n",
    "output = reporta.pivot_table(\n",
    "    index='first_order_month', columns='age', values='romi', aggfunc='mean'\n",
    ")\n",
    "\n",
    "output.cumsum(axis=1).round(2).fillna('') \n",
    "output.cumsum(axis=1).mean(axis=0) \n"
   ]
  },
  {
   "cell_type": "code",
   "execution_count": 117,
   "metadata": {},
   "outputs": [
    {
     "data": {
      "text/plain": [
       "age\n",
       "0     0.073943\n",
       "1     0.164455\n",
       "2     0.226463\n",
       "3     0.367709\n",
       "4     0.473135\n",
       "5     0.565729\n",
       "6     0.698293\n",
       "7     0.876221\n",
       "8     1.081991\n",
       "9     0.821665\n",
       "10    0.998018\n",
       "11    0.883581\n",
       "dtype: float64"
      ]
     },
     "execution_count": 117,
     "metadata": {},
     "output_type": "execute_result"
    }
   ],
   "source": [
    "#hallar roi para desktop\n",
    "#calcular ltv para desktop\n",
    "d_d=ultimate[ultimate['device']=='desktop']\n",
    "# Recuperar el mes de la primera compra de cada cliente\n",
    "first_ordersa = d_d.groupby('uid').agg({'order_month': 'min'}).reset_index()\n",
    "first_ordersa.columns = ['uid', 'first_order_month']\n",
    "\n",
    "# Calcular el número de nuevos clientes (n_buyers) para cada mes\n",
    "cohort_sizes = first_orders.groupby('first_order_month').agg({'uid': 'nunique'}).reset_index()\n",
    "cohort_sizes.columns = ['first_order_month', 'n_buyers']\n",
    "\n",
    "# Crear cohortes\n",
    "orders_ = pd.merge(d_d, first_orders, on='uid')\n",
    "cohorts = orders_.groupby(['first_order_month', 'order_month']).agg({'revenue': 'sum','costs':'sum'}).reset_index()\n",
    "\n",
    "# Añadir datos sobre cuántos usuarios realizaron sus primeras compras en cada mes a la tabla cohorts\n",
    "reporta = pd.merge(cohort_sizes, cohorts, on='first_order_month')\n",
    "\n",
    "# Calcular el beneficio bruto multiplicando los ingresos por la rentabilidad\n",
    "margin_rate = 1\n",
    "reporta['gp'] = reporta['revenue'] * margin_rate\n",
    "\n",
    "# Ajustar las columnas para mostrar la edad de la cohorte en lugar del mes del pedido\n",
    "reporta['age'] = (\n",
    "    reporta['order_month'] - reporta['first_order_month']\n",
    ") / np.timedelta64(1, 'M')\n",
    "reporta['age'] = reporta['age'].round().astype('int')\n",
    "# Dividir el beneficio bruto de la cohorte de cada mes por el número total de usuarios de cada cohorte\n",
    "reporta['ltv'] = reporta['gp'] / reporta['n_buyers']\n",
    "reporta['cac'] = reporta['costs'] / reporta['n_buyers']\n",
    "reporta['romi'] = reporta['ltv'] / reporta['cac']\n",
    "output = reporta.pivot_table(\n",
    "    index='first_order_month', columns='age', values='romi', aggfunc='mean'\n",
    ")\n",
    "\n",
    "output.cumsum(axis=1).round(2).fillna('') \n",
    "output.cumsum(axis=1).mean(axis=0) "
   ]
  },
  {
   "cell_type": "markdown",
   "metadata": {},
   "source": [
    "como conclusion cuando analizamos el roi por source_id las mejores fuentes vienen a ser la 1, 9 y 10 porque ademas de recuperar la inversion facilmente llegan a tener un retorno de hasta un 8,9. con respecto a los dispositivos el que tiene un creciemineto mas rapido es desktop"
   ]
  },
  {
   "cell_type": "markdown",
   "metadata": {},
   "source": [
    "<div class=\"alert alert-block alert-warning\">\n",
    "<b>Comentario del revisor</b> <a class=\"tocSkip\"></a>\n",
    "\n",
    "Para este caso es preferible hacer un análisis más extensivo, no solo estimando rentabilidad total sino con matrices por cohortes de la evolución de la rentabilidad y este análisis de cohortes para cada una de las fuentes, la razón de esto es que permite visualizar y explicar a un público pertinente como de forma particular fue el margen de rentabilidad y partir de esto tratar de ubicar acciones que se tomaron a través de los meses que puedan ser útiles para futuras acciones de negocio.\n",
    "</div>"
   ]
  },
  {
   "cell_type": "markdown",
   "metadata": {},
   "source": [
    "<div class=\"alert alert-block alert-danger\">\n",
    "<b>Comentario del revisor</b> <a class=\"tocSkip\"></a>\n",
    "\n",
    "Recuerda hacer el análisis por cohorte para cada fuente, es decir una tabla de pivoteo para cada fuente donde se muestre la rentabilidad de las inversiones por cada fuente por cohorte, adicionalmente los valores no son los indicados, esto se debe a que la rentabilidad (ROI) es el beneficio por cliente (LTV, tal como calculaste la columna ltv antes de la tabla de pivote) sobre el CAC (Ahora sí por cohortes porque queremos ver su contribución en función del cohorte)\n",
    "</div>\n"
   ]
  },
  {
   "cell_type": "markdown",
   "metadata": {},
   "source": [
    "<div class=\"alert alert-block alert-success\">\n",
    "<b>Comentario del revisor</b> <a class=\"tocSkip\"></a>\n",
    "\n",
    "Muy bien, seguiste las recomendaciones como se esperaba!\n",
    "</div>"
   ]
  },
  {
   "cell_type": "markdown",
   "metadata": {},
   "source": [
    "#  Escribe una conclusión: aconseja a los expertos de marketing cuánto dinero invertir y dónde."
   ]
  },
  {
   "cell_type": "markdown",
   "metadata": {},
   "source": [
    "En conclusión, para ayudar a optimizar los gastos, primero se establece como un pilar fundamental las visitas de más de 23 mil visitas de usuarios mensuales, demostrando una sólida base de participación y compromiso. Pero con respecto a la retencion hay una baja notable despues del primer mes donde deben estar puestos nuestros objetivos para aumentar mas la retencion de los clientes.\n",
    "\n",
    "El comportamiento de compra refleja una baja integración de servicios, porque una compra se demora demasiado segun el primer registro del cliente y otro punto para mejorar es en la cantidad de compras que realiza cada cliente, donde se tiene que realizar inversiones para aumentar ese numero promedio.\n",
    "El LTV tambien nos indica que hay puntos por mejorar a partir del segundo mes ya que las compras bajan por cada cohorte.\n",
    "En términos de inversiones y rentabilidad, el area de marketin ha manejado un presupuesto de 329131.62 , siendo los identificadores de fuente mas rentables el 1 y 2 con un ROI general de mas del 50%. Las estrategias publicitarias, especialmente en dispositivos desktop, han demostrado ser altamente efectivas, alcanzando un ROI del 30%.\n",
    "\n",
    "Los análisis gráficos respaldan estos resultados."
   ]
  },
  {
   "cell_type": "markdown",
   "metadata": {},
   "source": [
    "<div class=\"alert alert-block alert-warning\">\n",
    "<b>Comentario del revisor</b> <a class=\"tocSkip\"></a>\n",
    "\n",
    "En general muy buenas las conclusiones en particular respectivo al análisis de retención. En un ejercicio real los analistas y científicos de datos nos enfrentamos por lo general a este problema, como realizar un análisis de retención que evidencie el estado de la empresa en torno a la actividad de usuarios y qué estrategias se pueden implementar de acuerdo a la estadística de cada cohorte. De los demás análisis sugiero que tras aplicar las correciones sugeridas las revises, aunque de acuerdo a tus propios resultados sabes como concluir de forma pertinente y en lógica de negocio, una vez tengas los nuevos resultados de seguro realizarás unas conclusiones propicias para estos.\n",
    "</div>"
   ]
  }
 ],
 "metadata": {
  "kernelspec": {
   "display_name": "Python 3 (ipykernel)",
   "language": "python",
   "name": "python3"
  },
  "language_info": {
   "codemirror_mode": {
    "name": "ipython",
    "version": 3
   },
   "file_extension": ".py",
   "mimetype": "text/x-python",
   "name": "python",
   "nbconvert_exporter": "python",
   "pygments_lexer": "ipython3",
   "version": "3.9.5"
  },
  "toc": {
   "base_numbering": 1,
   "nav_menu": {},
   "number_sections": true,
   "sideBar": true,
   "skip_h1_title": true,
   "title_cell": "Table of Contents",
   "title_sidebar": "Contents",
   "toc_cell": false,
   "toc_position": {},
   "toc_section_display": true,
   "toc_window_display": false
  }
 },
 "nbformat": 4,
 "nbformat_minor": 2
}
